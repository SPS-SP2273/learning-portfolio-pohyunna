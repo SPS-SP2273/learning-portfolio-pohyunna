{
 "cells": [
  {
   "cell_type": "markdown",
   "id": "123456",
   "metadata": {},
   "source": [
    "<div style=\"text-align:left;font-size:2em\"><span style=\"font-weight:bolder;font-size:1.25em\">SP2273 | Learning Portfolio</span><br><br><span style=\"font-weight:bold;color:darkred\">Just Exercises (I)</span></div>"
   ]
  },
  {
   "cell_type": "markdown",
   "id": "151ba066",
   "metadata": {},
   "source": [
    "## Exercise 1 :  F-strings to the rescue"
   ]
  },
  {
   "cell_type": "code",
   "execution_count": 34,
   "id": "1325e8c9",
   "metadata": {
    "scrolled": true
   },
   "outputs": [
    {
     "name": "stdout",
     "output_type": "stream",
     "text": [
      "00001\n",
      "00002\n",
      "00003\n",
      "00004\n",
      "00005\n",
      "00006\n",
      "00007\n",
      "00008\n",
      "00009\n",
      "00010\n"
     ]
    }
   ],
   "source": [
    "number = 1\n",
    "\n",
    "while number < 11:\n",
    "    print(f'{number:05d}')\n",
    "    number += 1"
   ]
  },
  {
   "cell_type": "code",
   "execution_count": 35,
   "id": "d2545f31",
   "metadata": {},
   "outputs": [
    {
     "name": "stdout",
     "output_type": "stream",
     "text": [
      "001          +\n",
      "002         ++\n",
      "003        +++\n",
      "004       ++++\n",
      "005      +++++\n",
      "006     ++++++\n",
      "007    +++++++\n",
      "008   ++++++++\n",
      "009  +++++++++\n",
      "010 ++++++++++\n"
     ]
    }
   ],
   "source": [
    "number = 1\n",
    "\n",
    "while number < 11:\n",
    "    print(f'{number:03d}' + ' '*(11-number) + '+'*number)\n",
    "    number += 1"
   ]
  },
  {
   "cell_type": "code",
   "execution_count": 39,
   "id": "f7897600",
   "metadata": {},
   "outputs": [
    {
     "name": "stdout",
     "output_type": "stream",
     "text": [
      "001-+++++++++\n",
      "002--++++++++\n",
      "003---+++++++\n",
      "004----++++++\n",
      "005-----+++++\n",
      "006------++++\n",
      "007-------+++\n",
      "008--------++\n",
      "009---------+\n",
      "010----------\n"
     ]
    }
   ],
   "source": [
    "number = 1\n",
    "\n",
    "while number < 11:\n",
    "    print(f'{number:03d}' + '-'*(number) + '+'*(10-number))\n",
    "    number += 1"
   ]
  },
  {
   "cell_type": "code",
   "execution_count": 47,
   "id": "5fccbfc0",
   "metadata": {
    "scrolled": true
   },
   "outputs": [
    {
     "name": "stdout",
     "output_type": "stream",
     "text": [
      "['bruce_exploits.txt', 'bruce_enemies.txt', 'bruce_friends.txt', 'natasha_exploits.txt', 'natasha_enemies.txt', 'natasha_friends.txt', 'tony_exploits.txt', 'tony_enemies.txt', 'tony_friends.txt']\n"
     ]
    }
   ],
   "source": [
    "ex1=[]\n",
    "names = [\"bruce\", \"natasha\", \"tony\"]\n",
    "information = [\"exploits\", \"enemies\", \"friends\"]\n",
    "for name in names:\n",
    "    for info in information:\n",
    "        ex1.append(f\"{name}_{info}.txt\")\n",
    "        \n",
    "print(ex1)"
   ]
  },
  {
   "cell_type": "code",
   "execution_count": 79,
   "id": "74eb9d59",
   "metadata": {},
   "outputs": [
    {
     "name": "stdout",
     "output_type": "stream",
     "text": [
      "[\"data_sg_exp['01', '02', '03']_trial-001.txt\", \"data_sg_exp['01', '02', '03']_trial-002.txt\", \"data_sg_exp['01', '02', '03']_trial-003.txt\", \"data_sg_exp['01', '02', '03']_trial-004.txt\", \"data_sg_exp['01', '02', '03']_trial-005.txt\", \"data_sg_exp['01', '02', '03']_trial-006.txt\", \"data_sg_exp['01', '02', '03']_trial-007.txt\", \"data_sg_exp['01', '02', '03']_trial-008.txt\", \"data_sg_exp['01', '02', '03']_trial-009.txt\", \"data_sg_exp['01', '02', '03']_trial-010.txt\", \"data_sg_exp['01', '02', '03']_trial-011.txt\", \"data_sg_exp['01', '02', '03']_trial-012.txt\", \"data_sg_exp['01', '02', '03']_trial-013.txt\", \"data_sg_exp['01', '02', '03']_trial-014.txt\", \"data_sg_exp['01', '02', '03']_trial-015.txt\", \"data_sg_exp['01', '02', '03']_trial-016.txt\", \"data_sg_exp['01', '02', '03']_trial-017.txt\", \"data_sg_exp['01', '02', '03']_trial-018.txt\", \"data_sg_exp['01', '02', '03']_trial-019.txt\", \"data_sg_exp['01', '02', '03']_trial-020.txt\", \"data_sg_exp['01', '02', '03']_trial-021.txt\", \"data_sg_exp['01', '02', '03']_trial-022.txt\", \"data_sg_exp['01', '02', '03']_trial-023.txt\", \"data_sg_exp['01', '02', '03']_trial-024.txt\", \"data_sg_exp['01', '02', '03']_trial-025.txt\", \"data_sg_exp['01', '02', '03']_trial-026.txt\", \"data_sg_exp['01', '02', '03']_trial-027.txt\", \"data_sg_exp['01', '02', '03']_trial-028.txt\", \"data_sg_exp['01', '02', '03']_trial-029.txt\", \"data_sg_exp['01', '02', '03']_trial-030.txt\", \"data_sg_exp['01', '02', '03']_trial-031.txt\", \"data_sg_exp['01', '02', '03']_trial-032.txt\", \"data_sg_exp['01', '02', '03']_trial-033.txt\", \"data_sg_exp['01', '02', '03']_trial-034.txt\", \"data_sg_exp['01', '02', '03']_trial-035.txt\", \"data_sg_exp['01', '02', '03']_trial-036.txt\", \"data_sg_exp['01', '02', '03']_trial-037.txt\", \"data_sg_exp['01', '02', '03']_trial-038.txt\", \"data_sg_exp['01', '02', '03']_trial-039.txt\", \"data_sg_exp['01', '02', '03']_trial-040.txt\", \"data_sg_exp['01', '02', '03']_trial-041.txt\", \"data_sg_exp['01', '02', '03']_trial-042.txt\", \"data_sg_exp['01', '02', '03']_trial-043.txt\", \"data_sg_exp['01', '02', '03']_trial-044.txt\", \"data_sg_exp['01', '02', '03']_trial-045.txt\", \"data_sg_exp['01', '02', '03']_trial-046.txt\", \"data_sg_exp['01', '02', '03']_trial-047.txt\", \"data_sg_exp['01', '02', '03']_trial-048.txt\", \"data_sg_exp['01', '02', '03']_trial-049.txt\", \"data_sg_exp['01', '02', '03']_trial-050.txt\", \"data_sg_exp['01', '02', '03']_trial-001.txt\", \"data_sg_exp['01', '02', '03']_trial-002.txt\", \"data_sg_exp['01', '02', '03']_trial-003.txt\", \"data_sg_exp['01', '02', '03']_trial-004.txt\", \"data_sg_exp['01', '02', '03']_trial-005.txt\", \"data_sg_exp['01', '02', '03']_trial-006.txt\", \"data_sg_exp['01', '02', '03']_trial-007.txt\", \"data_sg_exp['01', '02', '03']_trial-008.txt\", \"data_sg_exp['01', '02', '03']_trial-009.txt\", \"data_sg_exp['01', '02', '03']_trial-010.txt\", \"data_sg_exp['01', '02', '03']_trial-011.txt\", \"data_sg_exp['01', '02', '03']_trial-012.txt\", \"data_sg_exp['01', '02', '03']_trial-013.txt\", \"data_sg_exp['01', '02', '03']_trial-014.txt\", \"data_sg_exp['01', '02', '03']_trial-015.txt\", \"data_sg_exp['01', '02', '03']_trial-016.txt\", \"data_sg_exp['01', '02', '03']_trial-017.txt\", \"data_sg_exp['01', '02', '03']_trial-018.txt\", \"data_sg_exp['01', '02', '03']_trial-019.txt\", \"data_sg_exp['01', '02', '03']_trial-020.txt\", \"data_sg_exp['01', '02', '03']_trial-021.txt\", \"data_sg_exp['01', '02', '03']_trial-022.txt\", \"data_sg_exp['01', '02', '03']_trial-023.txt\", \"data_sg_exp['01', '02', '03']_trial-024.txt\", \"data_sg_exp['01', '02', '03']_trial-025.txt\", \"data_sg_exp['01', '02', '03']_trial-026.txt\", \"data_sg_exp['01', '02', '03']_trial-027.txt\", \"data_sg_exp['01', '02', '03']_trial-028.txt\", \"data_sg_exp['01', '02', '03']_trial-029.txt\", \"data_sg_exp['01', '02', '03']_trial-030.txt\", \"data_sg_exp['01', '02', '03']_trial-031.txt\", \"data_sg_exp['01', '02', '03']_trial-032.txt\", \"data_sg_exp['01', '02', '03']_trial-033.txt\", \"data_sg_exp['01', '02', '03']_trial-034.txt\", \"data_sg_exp['01', '02', '03']_trial-035.txt\", \"data_sg_exp['01', '02', '03']_trial-036.txt\", \"data_sg_exp['01', '02', '03']_trial-037.txt\", \"data_sg_exp['01', '02', '03']_trial-038.txt\", \"data_sg_exp['01', '02', '03']_trial-039.txt\", \"data_sg_exp['01', '02', '03']_trial-040.txt\", \"data_sg_exp['01', '02', '03']_trial-041.txt\", \"data_sg_exp['01', '02', '03']_trial-042.txt\", \"data_sg_exp['01', '02', '03']_trial-043.txt\", \"data_sg_exp['01', '02', '03']_trial-044.txt\", \"data_sg_exp['01', '02', '03']_trial-045.txt\", \"data_sg_exp['01', '02', '03']_trial-046.txt\", \"data_sg_exp['01', '02', '03']_trial-047.txt\", \"data_sg_exp['01', '02', '03']_trial-048.txt\", \"data_sg_exp['01', '02', '03']_trial-049.txt\", \"data_sg_exp['01', '02', '03']_trial-050.txt\", \"data_sg_exp['01', '02', '03']_trial-001.txt\", \"data_sg_exp['01', '02', '03']_trial-002.txt\", \"data_sg_exp['01', '02', '03']_trial-003.txt\", \"data_sg_exp['01', '02', '03']_trial-004.txt\", \"data_sg_exp['01', '02', '03']_trial-005.txt\", \"data_sg_exp['01', '02', '03']_trial-006.txt\", \"data_sg_exp['01', '02', '03']_trial-007.txt\", \"data_sg_exp['01', '02', '03']_trial-008.txt\", \"data_sg_exp['01', '02', '03']_trial-009.txt\", \"data_sg_exp['01', '02', '03']_trial-010.txt\", \"data_sg_exp['01', '02', '03']_trial-011.txt\", \"data_sg_exp['01', '02', '03']_trial-012.txt\", \"data_sg_exp['01', '02', '03']_trial-013.txt\", \"data_sg_exp['01', '02', '03']_trial-014.txt\", \"data_sg_exp['01', '02', '03']_trial-015.txt\", \"data_sg_exp['01', '02', '03']_trial-016.txt\", \"data_sg_exp['01', '02', '03']_trial-017.txt\", \"data_sg_exp['01', '02', '03']_trial-018.txt\", \"data_sg_exp['01', '02', '03']_trial-019.txt\", \"data_sg_exp['01', '02', '03']_trial-020.txt\", \"data_sg_exp['01', '02', '03']_trial-021.txt\", \"data_sg_exp['01', '02', '03']_trial-022.txt\", \"data_sg_exp['01', '02', '03']_trial-023.txt\", \"data_sg_exp['01', '02', '03']_trial-024.txt\", \"data_sg_exp['01', '02', '03']_trial-025.txt\", \"data_sg_exp['01', '02', '03']_trial-026.txt\", \"data_sg_exp['01', '02', '03']_trial-027.txt\", \"data_sg_exp['01', '02', '03']_trial-028.txt\", \"data_sg_exp['01', '02', '03']_trial-029.txt\", \"data_sg_exp['01', '02', '03']_trial-030.txt\", \"data_sg_exp['01', '02', '03']_trial-031.txt\", \"data_sg_exp['01', '02', '03']_trial-032.txt\", \"data_sg_exp['01', '02', '03']_trial-033.txt\", \"data_sg_exp['01', '02', '03']_trial-034.txt\", \"data_sg_exp['01', '02', '03']_trial-035.txt\", \"data_sg_exp['01', '02', '03']_trial-036.txt\", \"data_sg_exp['01', '02', '03']_trial-037.txt\", \"data_sg_exp['01', '02', '03']_trial-038.txt\", \"data_sg_exp['01', '02', '03']_trial-039.txt\", \"data_sg_exp['01', '02', '03']_trial-040.txt\", \"data_sg_exp['01', '02', '03']_trial-041.txt\", \"data_sg_exp['01', '02', '03']_trial-042.txt\", \"data_sg_exp['01', '02', '03']_trial-043.txt\", \"data_sg_exp['01', '02', '03']_trial-044.txt\", \"data_sg_exp['01', '02', '03']_trial-045.txt\", \"data_sg_exp['01', '02', '03']_trial-046.txt\", \"data_sg_exp['01', '02', '03']_trial-047.txt\", \"data_sg_exp['01', '02', '03']_trial-048.txt\", \"data_sg_exp['01', '02', '03']_trial-049.txt\", \"data_sg_exp['01', '02', '03']_trial-050.txt\", \"data_gb_exp['01', '02', '03']_trial-001.txt\", \"data_gb_exp['01', '02', '03']_trial-002.txt\", \"data_gb_exp['01', '02', '03']_trial-003.txt\", \"data_gb_exp['01', '02', '03']_trial-004.txt\", \"data_gb_exp['01', '02', '03']_trial-005.txt\", \"data_gb_exp['01', '02', '03']_trial-006.txt\", \"data_gb_exp['01', '02', '03']_trial-007.txt\", \"data_gb_exp['01', '02', '03']_trial-008.txt\", \"data_gb_exp['01', '02', '03']_trial-009.txt\", \"data_gb_exp['01', '02', '03']_trial-010.txt\", \"data_gb_exp['01', '02', '03']_trial-011.txt\", \"data_gb_exp['01', '02', '03']_trial-012.txt\", \"data_gb_exp['01', '02', '03']_trial-013.txt\", \"data_gb_exp['01', '02', '03']_trial-014.txt\", \"data_gb_exp['01', '02', '03']_trial-015.txt\", \"data_gb_exp['01', '02', '03']_trial-016.txt\", \"data_gb_exp['01', '02', '03']_trial-017.txt\", \"data_gb_exp['01', '02', '03']_trial-018.txt\", \"data_gb_exp['01', '02', '03']_trial-019.txt\", \"data_gb_exp['01', '02', '03']_trial-020.txt\", \"data_gb_exp['01', '02', '03']_trial-021.txt\", \"data_gb_exp['01', '02', '03']_trial-022.txt\", \"data_gb_exp['01', '02', '03']_trial-023.txt\", \"data_gb_exp['01', '02', '03']_trial-024.txt\", \"data_gb_exp['01', '02', '03']_trial-025.txt\", \"data_gb_exp['01', '02', '03']_trial-026.txt\", \"data_gb_exp['01', '02', '03']_trial-027.txt\", \"data_gb_exp['01', '02', '03']_trial-028.txt\", \"data_gb_exp['01', '02', '03']_trial-029.txt\", \"data_gb_exp['01', '02', '03']_trial-030.txt\", \"data_gb_exp['01', '02', '03']_trial-031.txt\", \"data_gb_exp['01', '02', '03']_trial-032.txt\", \"data_gb_exp['01', '02', '03']_trial-033.txt\", \"data_gb_exp['01', '02', '03']_trial-034.txt\", \"data_gb_exp['01', '02', '03']_trial-035.txt\", \"data_gb_exp['01', '02', '03']_trial-036.txt\", \"data_gb_exp['01', '02', '03']_trial-037.txt\", \"data_gb_exp['01', '02', '03']_trial-038.txt\", \"data_gb_exp['01', '02', '03']_trial-039.txt\", \"data_gb_exp['01', '02', '03']_trial-040.txt\", \"data_gb_exp['01', '02', '03']_trial-041.txt\", \"data_gb_exp['01', '02', '03']_trial-042.txt\", \"data_gb_exp['01', '02', '03']_trial-043.txt\", \"data_gb_exp['01', '02', '03']_trial-044.txt\", \"data_gb_exp['01', '02', '03']_trial-045.txt\", \"data_gb_exp['01', '02', '03']_trial-046.txt\", \"data_gb_exp['01', '02', '03']_trial-047.txt\", \"data_gb_exp['01', '02', '03']_trial-048.txt\", \"data_gb_exp['01', '02', '03']_trial-049.txt\", \"data_gb_exp['01', '02', '03']_trial-050.txt\", \"data_gb_exp['01', '02', '03']_trial-001.txt\", \"data_gb_exp['01', '02', '03']_trial-002.txt\", \"data_gb_exp['01', '02', '03']_trial-003.txt\", \"data_gb_exp['01', '02', '03']_trial-004.txt\", \"data_gb_exp['01', '02', '03']_trial-005.txt\", \"data_gb_exp['01', '02', '03']_trial-006.txt\", \"data_gb_exp['01', '02', '03']_trial-007.txt\", \"data_gb_exp['01', '02', '03']_trial-008.txt\", \"data_gb_exp['01', '02', '03']_trial-009.txt\", \"data_gb_exp['01', '02', '03']_trial-010.txt\", \"data_gb_exp['01', '02', '03']_trial-011.txt\", \"data_gb_exp['01', '02', '03']_trial-012.txt\", \"data_gb_exp['01', '02', '03']_trial-013.txt\", \"data_gb_exp['01', '02', '03']_trial-014.txt\", \"data_gb_exp['01', '02', '03']_trial-015.txt\", \"data_gb_exp['01', '02', '03']_trial-016.txt\", \"data_gb_exp['01', '02', '03']_trial-017.txt\", \"data_gb_exp['01', '02', '03']_trial-018.txt\", \"data_gb_exp['01', '02', '03']_trial-019.txt\", \"data_gb_exp['01', '02', '03']_trial-020.txt\", \"data_gb_exp['01', '02', '03']_trial-021.txt\", \"data_gb_exp['01', '02', '03']_trial-022.txt\", \"data_gb_exp['01', '02', '03']_trial-023.txt\", \"data_gb_exp['01', '02', '03']_trial-024.txt\", \"data_gb_exp['01', '02', '03']_trial-025.txt\", \"data_gb_exp['01', '02', '03']_trial-026.txt\", \"data_gb_exp['01', '02', '03']_trial-027.txt\", \"data_gb_exp['01', '02', '03']_trial-028.txt\", \"data_gb_exp['01', '02', '03']_trial-029.txt\", \"data_gb_exp['01', '02', '03']_trial-030.txt\", \"data_gb_exp['01', '02', '03']_trial-031.txt\", \"data_gb_exp['01', '02', '03']_trial-032.txt\", \"data_gb_exp['01', '02', '03']_trial-033.txt\", \"data_gb_exp['01', '02', '03']_trial-034.txt\", \"data_gb_exp['01', '02', '03']_trial-035.txt\", \"data_gb_exp['01', '02', '03']_trial-036.txt\", \"data_gb_exp['01', '02', '03']_trial-037.txt\", \"data_gb_exp['01', '02', '03']_trial-038.txt\", \"data_gb_exp['01', '02', '03']_trial-039.txt\", \"data_gb_exp['01', '02', '03']_trial-040.txt\", \"data_gb_exp['01', '02', '03']_trial-041.txt\", \"data_gb_exp['01', '02', '03']_trial-042.txt\", \"data_gb_exp['01', '02', '03']_trial-043.txt\", \"data_gb_exp['01', '02', '03']_trial-044.txt\", \"data_gb_exp['01', '02', '03']_trial-045.txt\", \"data_gb_exp['01', '02', '03']_trial-046.txt\", \"data_gb_exp['01', '02', '03']_trial-047.txt\", \"data_gb_exp['01', '02', '03']_trial-048.txt\", \"data_gb_exp['01', '02', '03']_trial-049.txt\", \"data_gb_exp['01', '02', '03']_trial-050.txt\", \"data_gb_exp['01', '02', '03']_trial-001.txt\", \"data_gb_exp['01', '02', '03']_trial-002.txt\", \"data_gb_exp['01', '02', '03']_trial-003.txt\", \"data_gb_exp['01', '02', '03']_trial-004.txt\", \"data_gb_exp['01', '02', '03']_trial-005.txt\", \"data_gb_exp['01', '02', '03']_trial-006.txt\", \"data_gb_exp['01', '02', '03']_trial-007.txt\", \"data_gb_exp['01', '02', '03']_trial-008.txt\", \"data_gb_exp['01', '02', '03']_trial-009.txt\", \"data_gb_exp['01', '02', '03']_trial-010.txt\", \"data_gb_exp['01', '02', '03']_trial-011.txt\", \"data_gb_exp['01', '02', '03']_trial-012.txt\", \"data_gb_exp['01', '02', '03']_trial-013.txt\", \"data_gb_exp['01', '02', '03']_trial-014.txt\", \"data_gb_exp['01', '02', '03']_trial-015.txt\", \"data_gb_exp['01', '02', '03']_trial-016.txt\", \"data_gb_exp['01', '02', '03']_trial-017.txt\", \"data_gb_exp['01', '02', '03']_trial-018.txt\", \"data_gb_exp['01', '02', '03']_trial-019.txt\", \"data_gb_exp['01', '02', '03']_trial-020.txt\", \"data_gb_exp['01', '02', '03']_trial-021.txt\", \"data_gb_exp['01', '02', '03']_trial-022.txt\", \"data_gb_exp['01', '02', '03']_trial-023.txt\", \"data_gb_exp['01', '02', '03']_trial-024.txt\", \"data_gb_exp['01', '02', '03']_trial-025.txt\", \"data_gb_exp['01', '02', '03']_trial-026.txt\", \"data_gb_exp['01', '02', '03']_trial-027.txt\", \"data_gb_exp['01', '02', '03']_trial-028.txt\", \"data_gb_exp['01', '02', '03']_trial-029.txt\", \"data_gb_exp['01', '02', '03']_trial-030.txt\", \"data_gb_exp['01', '02', '03']_trial-031.txt\", \"data_gb_exp['01', '02', '03']_trial-032.txt\", \"data_gb_exp['01', '02', '03']_trial-033.txt\", \"data_gb_exp['01', '02', '03']_trial-034.txt\", \"data_gb_exp['01', '02', '03']_trial-035.txt\", \"data_gb_exp['01', '02', '03']_trial-036.txt\", \"data_gb_exp['01', '02', '03']_trial-037.txt\", \"data_gb_exp['01', '02', '03']_trial-038.txt\", \"data_gb_exp['01', '02', '03']_trial-039.txt\", \"data_gb_exp['01', '02', '03']_trial-040.txt\", \"data_gb_exp['01', '02', '03']_trial-041.txt\", \"data_gb_exp['01', '02', '03']_trial-042.txt\", \"data_gb_exp['01', '02', '03']_trial-043.txt\", \"data_gb_exp['01', '02', '03']_trial-044.txt\", \"data_gb_exp['01', '02', '03']_trial-045.txt\", \"data_gb_exp['01', '02', '03']_trial-046.txt\", \"data_gb_exp['01', '02', '03']_trial-047.txt\", \"data_gb_exp['01', '02', '03']_trial-048.txt\", \"data_gb_exp['01', '02', '03']_trial-049.txt\", \"data_gb_exp['01', '02', '03']_trial-050.txt\", \"data_us_exp['01', '02', '03']_trial-001.txt\", \"data_us_exp['01', '02', '03']_trial-002.txt\", \"data_us_exp['01', '02', '03']_trial-003.txt\", \"data_us_exp['01', '02', '03']_trial-004.txt\", \"data_us_exp['01', '02', '03']_trial-005.txt\", \"data_us_exp['01', '02', '03']_trial-006.txt\", \"data_us_exp['01', '02', '03']_trial-007.txt\", \"data_us_exp['01', '02', '03']_trial-008.txt\", \"data_us_exp['01', '02', '03']_trial-009.txt\", \"data_us_exp['01', '02', '03']_trial-010.txt\", \"data_us_exp['01', '02', '03']_trial-011.txt\", \"data_us_exp['01', '02', '03']_trial-012.txt\", \"data_us_exp['01', '02', '03']_trial-013.txt\", \"data_us_exp['01', '02', '03']_trial-014.txt\", \"data_us_exp['01', '02', '03']_trial-015.txt\", \"data_us_exp['01', '02', '03']_trial-016.txt\", \"data_us_exp['01', '02', '03']_trial-017.txt\", \"data_us_exp['01', '02', '03']_trial-018.txt\", \"data_us_exp['01', '02', '03']_trial-019.txt\", \"data_us_exp['01', '02', '03']_trial-020.txt\", \"data_us_exp['01', '02', '03']_trial-021.txt\", \"data_us_exp['01', '02', '03']_trial-022.txt\", \"data_us_exp['01', '02', '03']_trial-023.txt\", \"data_us_exp['01', '02', '03']_trial-024.txt\", \"data_us_exp['01', '02', '03']_trial-025.txt\", \"data_us_exp['01', '02', '03']_trial-026.txt\", \"data_us_exp['01', '02', '03']_trial-027.txt\", \"data_us_exp['01', '02', '03']_trial-028.txt\", \"data_us_exp['01', '02', '03']_trial-029.txt\", \"data_us_exp['01', '02', '03']_trial-030.txt\", \"data_us_exp['01', '02', '03']_trial-031.txt\", \"data_us_exp['01', '02', '03']_trial-032.txt\", \"data_us_exp['01', '02', '03']_trial-033.txt\", \"data_us_exp['01', '02', '03']_trial-034.txt\", \"data_us_exp['01', '02', '03']_trial-035.txt\", \"data_us_exp['01', '02', '03']_trial-036.txt\", \"data_us_exp['01', '02', '03']_trial-037.txt\", \"data_us_exp['01', '02', '03']_trial-038.txt\", \"data_us_exp['01', '02', '03']_trial-039.txt\", \"data_us_exp['01', '02', '03']_trial-040.txt\", \"data_us_exp['01', '02', '03']_trial-041.txt\", \"data_us_exp['01', '02', '03']_trial-042.txt\", \"data_us_exp['01', '02', '03']_trial-043.txt\", \"data_us_exp['01', '02', '03']_trial-044.txt\", \"data_us_exp['01', '02', '03']_trial-045.txt\", \"data_us_exp['01', '02', '03']_trial-046.txt\", \"data_us_exp['01', '02', '03']_trial-047.txt\", \"data_us_exp['01', '02', '03']_trial-048.txt\", \"data_us_exp['01', '02', '03']_trial-049.txt\", \"data_us_exp['01', '02', '03']_trial-050.txt\", \"data_us_exp['01', '02', '03']_trial-001.txt\", \"data_us_exp['01', '02', '03']_trial-002.txt\", \"data_us_exp['01', '02', '03']_trial-003.txt\", \"data_us_exp['01', '02', '03']_trial-004.txt\", \"data_us_exp['01', '02', '03']_trial-005.txt\", \"data_us_exp['01', '02', '03']_trial-006.txt\", \"data_us_exp['01', '02', '03']_trial-007.txt\", \"data_us_exp['01', '02', '03']_trial-008.txt\", \"data_us_exp['01', '02', '03']_trial-009.txt\", \"data_us_exp['01', '02', '03']_trial-010.txt\", \"data_us_exp['01', '02', '03']_trial-011.txt\", \"data_us_exp['01', '02', '03']_trial-012.txt\", \"data_us_exp['01', '02', '03']_trial-013.txt\", \"data_us_exp['01', '02', '03']_trial-014.txt\", \"data_us_exp['01', '02', '03']_trial-015.txt\", \"data_us_exp['01', '02', '03']_trial-016.txt\", \"data_us_exp['01', '02', '03']_trial-017.txt\", \"data_us_exp['01', '02', '03']_trial-018.txt\", \"data_us_exp['01', '02', '03']_trial-019.txt\", \"data_us_exp['01', '02', '03']_trial-020.txt\", \"data_us_exp['01', '02', '03']_trial-021.txt\", \"data_us_exp['01', '02', '03']_trial-022.txt\", \"data_us_exp['01', '02', '03']_trial-023.txt\", \"data_us_exp['01', '02', '03']_trial-024.txt\", \"data_us_exp['01', '02', '03']_trial-025.txt\", \"data_us_exp['01', '02', '03']_trial-026.txt\", \"data_us_exp['01', '02', '03']_trial-027.txt\", \"data_us_exp['01', '02', '03']_trial-028.txt\", \"data_us_exp['01', '02', '03']_trial-029.txt\", \"data_us_exp['01', '02', '03']_trial-030.txt\", \"data_us_exp['01', '02', '03']_trial-031.txt\", \"data_us_exp['01', '02', '03']_trial-032.txt\", \"data_us_exp['01', '02', '03']_trial-033.txt\", \"data_us_exp['01', '02', '03']_trial-034.txt\", \"data_us_exp['01', '02', '03']_trial-035.txt\", \"data_us_exp['01', '02', '03']_trial-036.txt\", \"data_us_exp['01', '02', '03']_trial-037.txt\", \"data_us_exp['01', '02', '03']_trial-038.txt\", \"data_us_exp['01', '02', '03']_trial-039.txt\", \"data_us_exp['01', '02', '03']_trial-040.txt\", \"data_us_exp['01', '02', '03']_trial-041.txt\", \"data_us_exp['01', '02', '03']_trial-042.txt\", \"data_us_exp['01', '02', '03']_trial-043.txt\", \"data_us_exp['01', '02', '03']_trial-044.txt\", \"data_us_exp['01', '02', '03']_trial-045.txt\", \"data_us_exp['01', '02', '03']_trial-046.txt\", \"data_us_exp['01', '02', '03']_trial-047.txt\", \"data_us_exp['01', '02', '03']_trial-048.txt\", \"data_us_exp['01', '02', '03']_trial-049.txt\", \"data_us_exp['01', '02', '03']_trial-050.txt\", \"data_us_exp['01', '02', '03']_trial-001.txt\", \"data_us_exp['01', '02', '03']_trial-002.txt\", \"data_us_exp['01', '02', '03']_trial-003.txt\", \"data_us_exp['01', '02', '03']_trial-004.txt\", \"data_us_exp['01', '02', '03']_trial-005.txt\", \"data_us_exp['01', '02', '03']_trial-006.txt\", \"data_us_exp['01', '02', '03']_trial-007.txt\", \"data_us_exp['01', '02', '03']_trial-008.txt\", \"data_us_exp['01', '02', '03']_trial-009.txt\", \"data_us_exp['01', '02', '03']_trial-010.txt\", \"data_us_exp['01', '02', '03']_trial-011.txt\", \"data_us_exp['01', '02', '03']_trial-012.txt\", \"data_us_exp['01', '02', '03']_trial-013.txt\", \"data_us_exp['01', '02', '03']_trial-014.txt\", \"data_us_exp['01', '02', '03']_trial-015.txt\", \"data_us_exp['01', '02', '03']_trial-016.txt\", \"data_us_exp['01', '02', '03']_trial-017.txt\", \"data_us_exp['01', '02', '03']_trial-018.txt\", \"data_us_exp['01', '02', '03']_trial-019.txt\", \"data_us_exp['01', '02', '03']_trial-020.txt\", \"data_us_exp['01', '02', '03']_trial-021.txt\", \"data_us_exp['01', '02', '03']_trial-022.txt\", \"data_us_exp['01', '02', '03']_trial-023.txt\", \"data_us_exp['01', '02', '03']_trial-024.txt\", \"data_us_exp['01', '02', '03']_trial-025.txt\", \"data_us_exp['01', '02', '03']_trial-026.txt\", \"data_us_exp['01', '02', '03']_trial-027.txt\", \"data_us_exp['01', '02', '03']_trial-028.txt\", \"data_us_exp['01', '02', '03']_trial-029.txt\", \"data_us_exp['01', '02', '03']_trial-030.txt\", \"data_us_exp['01', '02', '03']_trial-031.txt\", \"data_us_exp['01', '02', '03']_trial-032.txt\", \"data_us_exp['01', '02', '03']_trial-033.txt\", \"data_us_exp['01', '02', '03']_trial-034.txt\", \"data_us_exp['01', '02', '03']_trial-035.txt\", \"data_us_exp['01', '02', '03']_trial-036.txt\", \"data_us_exp['01', '02', '03']_trial-037.txt\", \"data_us_exp['01', '02', '03']_trial-038.txt\", \"data_us_exp['01', '02', '03']_trial-039.txt\", \"data_us_exp['01', '02', '03']_trial-040.txt\", \"data_us_exp['01', '02', '03']_trial-041.txt\", \"data_us_exp['01', '02', '03']_trial-042.txt\", \"data_us_exp['01', '02', '03']_trial-043.txt\", \"data_us_exp['01', '02', '03']_trial-044.txt\", \"data_us_exp['01', '02', '03']_trial-045.txt\", \"data_us_exp['01', '02', '03']_trial-046.txt\", \"data_us_exp['01', '02', '03']_trial-047.txt\", \"data_us_exp['01', '02', '03']_trial-048.txt\", \"data_us_exp['01', '02', '03']_trial-049.txt\", \"data_us_exp['01', '02', '03']_trial-050.txt\"]\n"
     ]
    }
   ],
   "source": [
    "ex2=[]\n",
    "numbers=[]\n",
    "countries = [\"sg\", \"gb\", \"us\"]\n",
    "experiments = [\"01\", \"02\", \"03\"]\n",
    "\n",
    "\n",
    "number = 1\n",
    "while number < 51:\n",
    "    numbers.append(f'{number:03d}')\n",
    "    number += 1\n",
    "    \n",
    "for country in countries:\n",
    "    for experiment in experiments:\n",
    "        for number in numbers:\n",
    "            ex2.append(f\"data_{country}_exp-{experiments}_trial-{number}.txt\")\n",
    "            \n",
    "print(ex2)"
   ]
  },
  {
   "cell_type": "markdown",
   "id": "e609aee6",
   "metadata": {},
   "source": [
    "## Exercise 2 :  Tutti frutti"
   ]
  },
  {
   "cell_type": "code",
   "execution_count": null,
   "id": "4dc0656a",
   "metadata": {},
   "outputs": [],
   "source": [
    "for name in real_names:\n",
    "    print(f\"{name} is a Marvel superhero!\")"
   ]
  },
  {
   "cell_type": "markdown",
   "id": "55a3c202",
   "metadata": {},
   "source": [
    "## Exercise 3 :  Ciao Fibonacci"
   ]
  },
  {
   "cell_type": "code",
   "execution_count": null,
   "id": "65028d39",
   "metadata": {},
   "outputs": [],
   "source": [
    "\n",
    "\n",
    "\n",
    "# Your solution here\n",
    "\n",
    "\n"
   ]
  },
  {
   "cell_type": "markdown",
   "id": "b230415e",
   "metadata": {},
   "source": [
    "## Exercise 4 :  A function for Fibonacci"
   ]
  },
  {
   "cell_type": "code",
   "execution_count": null,
   "id": "5aa07d88",
   "metadata": {},
   "outputs": [],
   "source": [
    "\n",
    "\n",
    "\n",
    "# Your solution here\n",
    "\n",
    "\n"
   ]
  },
  {
   "cell_type": "markdown",
   "id": "bee81849",
   "metadata": {},
   "source": [
    "## Exercise 5 :  max_info() without NumPy"
   ]
  },
  {
   "cell_type": "code",
   "execution_count": null,
   "id": "64e66dee",
   "metadata": {},
   "outputs": [],
   "source": [
    "\n",
    "\n",
    "\n",
    "# Your solution here\n",
    "\n",
    "\n"
   ]
  },
  {
   "cell_type": "markdown",
   "id": "d2d20d6b",
   "metadata": {},
   "source": [
    "## Exercise 6 :  Take count"
   ]
  },
  {
   "cell_type": "code",
   "execution_count": null,
   "id": "7ff5c16a",
   "metadata": {},
   "outputs": [],
   "source": [
    "\n",
    "\n",
    "\n",
    "# Your solution here\n",
    "\n",
    "\n"
   ]
  }
 ],
 "metadata": {
  "kernelspec": {
   "display_name": "Python 3 (ipykernel)",
   "language": "python",
   "name": "python3"
  },
  "language_info": {
   "codemirror_mode": {
    "name": "ipython",
    "version": 3
   },
   "file_extension": ".py",
   "mimetype": "text/x-python",
   "name": "python",
   "nbconvert_exporter": "python",
   "pygments_lexer": "ipython3",
   "version": "3.10.8"
  },
  "toc": {
   "base_numbering": 1,
   "nav_menu": {},
   "number_sections": true,
   "sideBar": true,
   "skip_h1_title": false,
   "title_cell": "Table of Contents",
   "title_sidebar": "Contents",
   "toc_cell": false,
   "toc_position": {},
   "toc_section_display": true,
   "toc_window_display": false
  },
  "varInspector": {
   "cols": {
    "lenName": 16,
    "lenType": 16,
    "lenVar": 40
   },
   "kernels_config": {
    "python": {
     "delete_cmd_postfix": "",
     "delete_cmd_prefix": "del ",
     "library": "var_list.py",
     "varRefreshCmd": "print(var_dic_list())"
    },
    "r": {
     "delete_cmd_postfix": ") ",
     "delete_cmd_prefix": "rm(",
     "library": "var_list.r",
     "varRefreshCmd": "cat(var_dic_list()) "
    }
   },
   "types_to_exclude": [
    "module",
    "function",
    "builtin_function_or_method",
    "instance",
    "_Feature"
   ],
   "window_display": false
  },
  "vscode": {
   "interpreter": {
    "hash": "31f2aee4e71d21fbe5cf8b01ff0e069b9275f58929596ceb00d14d90e3e16cd6"
   }
  }
 },
 "nbformat": 4,
 "nbformat_minor": 5
}
