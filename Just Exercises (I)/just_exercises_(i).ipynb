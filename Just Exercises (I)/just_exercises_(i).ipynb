{
 "cells": [
  {
   "cell_type": "markdown",
   "id": "123456",
   "metadata": {},
   "source": [
    "<div style=\"text-align:left;font-size:2em\"><span style=\"font-weight:bolder;font-size:1.25em\">SP2273 | Learning Portfolio</span><br><br><span style=\"font-weight:bold;color:darkred\">Just Exercises (I)</span></div>"
   ]
  },
  {
   "cell_type": "markdown",
   "id": "151ba066",
   "metadata": {},
   "source": [
    "## Exercise 1 :  F-strings to the rescue"
   ]
  },
  {
   "cell_type": "code",
   "execution_count": 34,
   "id": "1325e8c9",
   "metadata": {
    "scrolled": true
   },
   "outputs": [
    {
     "name": "stdout",
     "output_type": "stream",
     "text": [
      "00001\n",
      "00002\n",
      "00003\n",
      "00004\n",
      "00005\n",
      "00006\n",
      "00007\n",
      "00008\n",
      "00009\n",
      "00010\n"
     ]
    }
   ],
   "source": [
    "number = 1\n",
    "\n",
    "while number < 11:\n",
    "    print(f'{number:05d}')\n",
    "    number += 1"
   ]
  },
  {
   "cell_type": "code",
   "execution_count": 35,
   "id": "d2545f31",
   "metadata": {},
   "outputs": [
    {
     "name": "stdout",
     "output_type": "stream",
     "text": [
      "001          +\n",
      "002         ++\n",
      "003        +++\n",
      "004       ++++\n",
      "005      +++++\n",
      "006     ++++++\n",
      "007    +++++++\n",
      "008   ++++++++\n",
      "009  +++++++++\n",
      "010 ++++++++++\n"
     ]
    }
   ],
   "source": [
    "number = 1\n",
    "\n",
    "while number < 11:\n",
    "    print(f'{number:03d}' + ' '*(11-number) + '+'*number)\n",
    "    number += 1"
   ]
  },
  {
   "cell_type": "code",
   "execution_count": 39,
   "id": "f7897600",
   "metadata": {},
   "outputs": [
    {
     "name": "stdout",
     "output_type": "stream",
     "text": [
      "001-+++++++++\n",
      "002--++++++++\n",
      "003---+++++++\n",
      "004----++++++\n",
      "005-----+++++\n",
      "006------++++\n",
      "007-------+++\n",
      "008--------++\n",
      "009---------+\n",
      "010----------\n"
     ]
    }
   ],
   "source": [
    "number = 1\n",
    "\n",
    "while number < 11:\n",
    "    print(f'{number:03d}' + '-'*(number) + '+'*(10-number))\n",
    "    number += 1"
   ]
  },
  {
   "cell_type": "code",
   "execution_count": 47,
   "id": "5fccbfc0",
   "metadata": {
    "scrolled": true
   },
   "outputs": [
    {
     "name": "stdout",
     "output_type": "stream",
     "text": [
      "['bruce_exploits.txt', 'bruce_enemies.txt', 'bruce_friends.txt', 'natasha_exploits.txt', 'natasha_enemies.txt', 'natasha_friends.txt', 'tony_exploits.txt', 'tony_enemies.txt', 'tony_friends.txt']\n"
     ]
    }
   ],
   "source": [
    "ex1=[]\n",
    "names = [\"bruce\", \"natasha\", \"tony\"]\n",
    "information = [\"exploits\", \"enemies\", \"friends\"]\n",
    "for name in names:\n",
    "    for info in information:\n",
    "        ex1.append(f\"{name}_{info}.txt\")\n",
    "        \n",
    "print(ex1)"
   ]
  },
  {
   "cell_type": "code",
   "execution_count": 1,
   "id": "74eb9d59",
   "metadata": {},
   "outputs": [
    {
     "name": "stdout",
     "output_type": "stream",
     "text": [
      "['data_sg_exp-01_trial-001.txt', 'data_sg_exp-01_trial-002.txt', 'data_sg_exp-01_trial-003.txt', 'data_sg_exp-01_trial-004.txt', 'data_sg_exp-01_trial-005.txt', 'data_sg_exp-01_trial-006.txt', 'data_sg_exp-01_trial-007.txt', 'data_sg_exp-01_trial-008.txt', 'data_sg_exp-01_trial-009.txt', 'data_sg_exp-01_trial-010.txt', 'data_sg_exp-01_trial-011.txt', 'data_sg_exp-01_trial-012.txt', 'data_sg_exp-01_trial-013.txt', 'data_sg_exp-01_trial-014.txt', 'data_sg_exp-01_trial-015.txt', 'data_sg_exp-01_trial-016.txt', 'data_sg_exp-01_trial-017.txt', 'data_sg_exp-01_trial-018.txt', 'data_sg_exp-01_trial-019.txt', 'data_sg_exp-01_trial-020.txt', 'data_sg_exp-01_trial-021.txt', 'data_sg_exp-01_trial-022.txt', 'data_sg_exp-01_trial-023.txt', 'data_sg_exp-01_trial-024.txt', 'data_sg_exp-01_trial-025.txt', 'data_sg_exp-01_trial-026.txt', 'data_sg_exp-01_trial-027.txt', 'data_sg_exp-01_trial-028.txt', 'data_sg_exp-01_trial-029.txt', 'data_sg_exp-01_trial-030.txt', 'data_sg_exp-01_trial-031.txt', 'data_sg_exp-01_trial-032.txt', 'data_sg_exp-01_trial-033.txt', 'data_sg_exp-01_trial-034.txt', 'data_sg_exp-01_trial-035.txt', 'data_sg_exp-01_trial-036.txt', 'data_sg_exp-01_trial-037.txt', 'data_sg_exp-01_trial-038.txt', 'data_sg_exp-01_trial-039.txt', 'data_sg_exp-01_trial-040.txt', 'data_sg_exp-01_trial-041.txt', 'data_sg_exp-01_trial-042.txt', 'data_sg_exp-01_trial-043.txt', 'data_sg_exp-01_trial-044.txt', 'data_sg_exp-01_trial-045.txt', 'data_sg_exp-01_trial-046.txt', 'data_sg_exp-01_trial-047.txt', 'data_sg_exp-01_trial-048.txt', 'data_sg_exp-01_trial-049.txt', 'data_sg_exp-01_trial-050.txt', 'data_sg_exp-02_trial-001.txt', 'data_sg_exp-02_trial-002.txt', 'data_sg_exp-02_trial-003.txt', 'data_sg_exp-02_trial-004.txt', 'data_sg_exp-02_trial-005.txt', 'data_sg_exp-02_trial-006.txt', 'data_sg_exp-02_trial-007.txt', 'data_sg_exp-02_trial-008.txt', 'data_sg_exp-02_trial-009.txt', 'data_sg_exp-02_trial-010.txt', 'data_sg_exp-02_trial-011.txt', 'data_sg_exp-02_trial-012.txt', 'data_sg_exp-02_trial-013.txt', 'data_sg_exp-02_trial-014.txt', 'data_sg_exp-02_trial-015.txt', 'data_sg_exp-02_trial-016.txt', 'data_sg_exp-02_trial-017.txt', 'data_sg_exp-02_trial-018.txt', 'data_sg_exp-02_trial-019.txt', 'data_sg_exp-02_trial-020.txt', 'data_sg_exp-02_trial-021.txt', 'data_sg_exp-02_trial-022.txt', 'data_sg_exp-02_trial-023.txt', 'data_sg_exp-02_trial-024.txt', 'data_sg_exp-02_trial-025.txt', 'data_sg_exp-02_trial-026.txt', 'data_sg_exp-02_trial-027.txt', 'data_sg_exp-02_trial-028.txt', 'data_sg_exp-02_trial-029.txt', 'data_sg_exp-02_trial-030.txt', 'data_sg_exp-02_trial-031.txt', 'data_sg_exp-02_trial-032.txt', 'data_sg_exp-02_trial-033.txt', 'data_sg_exp-02_trial-034.txt', 'data_sg_exp-02_trial-035.txt', 'data_sg_exp-02_trial-036.txt', 'data_sg_exp-02_trial-037.txt', 'data_sg_exp-02_trial-038.txt', 'data_sg_exp-02_trial-039.txt', 'data_sg_exp-02_trial-040.txt', 'data_sg_exp-02_trial-041.txt', 'data_sg_exp-02_trial-042.txt', 'data_sg_exp-02_trial-043.txt', 'data_sg_exp-02_trial-044.txt', 'data_sg_exp-02_trial-045.txt', 'data_sg_exp-02_trial-046.txt', 'data_sg_exp-02_trial-047.txt', 'data_sg_exp-02_trial-048.txt', 'data_sg_exp-02_trial-049.txt', 'data_sg_exp-02_trial-050.txt', 'data_sg_exp-03_trial-001.txt', 'data_sg_exp-03_trial-002.txt', 'data_sg_exp-03_trial-003.txt', 'data_sg_exp-03_trial-004.txt', 'data_sg_exp-03_trial-005.txt', 'data_sg_exp-03_trial-006.txt', 'data_sg_exp-03_trial-007.txt', 'data_sg_exp-03_trial-008.txt', 'data_sg_exp-03_trial-009.txt', 'data_sg_exp-03_trial-010.txt', 'data_sg_exp-03_trial-011.txt', 'data_sg_exp-03_trial-012.txt', 'data_sg_exp-03_trial-013.txt', 'data_sg_exp-03_trial-014.txt', 'data_sg_exp-03_trial-015.txt', 'data_sg_exp-03_trial-016.txt', 'data_sg_exp-03_trial-017.txt', 'data_sg_exp-03_trial-018.txt', 'data_sg_exp-03_trial-019.txt', 'data_sg_exp-03_trial-020.txt', 'data_sg_exp-03_trial-021.txt', 'data_sg_exp-03_trial-022.txt', 'data_sg_exp-03_trial-023.txt', 'data_sg_exp-03_trial-024.txt', 'data_sg_exp-03_trial-025.txt', 'data_sg_exp-03_trial-026.txt', 'data_sg_exp-03_trial-027.txt', 'data_sg_exp-03_trial-028.txt', 'data_sg_exp-03_trial-029.txt', 'data_sg_exp-03_trial-030.txt', 'data_sg_exp-03_trial-031.txt', 'data_sg_exp-03_trial-032.txt', 'data_sg_exp-03_trial-033.txt', 'data_sg_exp-03_trial-034.txt', 'data_sg_exp-03_trial-035.txt', 'data_sg_exp-03_trial-036.txt', 'data_sg_exp-03_trial-037.txt', 'data_sg_exp-03_trial-038.txt', 'data_sg_exp-03_trial-039.txt', 'data_sg_exp-03_trial-040.txt', 'data_sg_exp-03_trial-041.txt', 'data_sg_exp-03_trial-042.txt', 'data_sg_exp-03_trial-043.txt', 'data_sg_exp-03_trial-044.txt', 'data_sg_exp-03_trial-045.txt', 'data_sg_exp-03_trial-046.txt', 'data_sg_exp-03_trial-047.txt', 'data_sg_exp-03_trial-048.txt', 'data_sg_exp-03_trial-049.txt', 'data_sg_exp-03_trial-050.txt', 'data_gb_exp-01_trial-001.txt', 'data_gb_exp-01_trial-002.txt', 'data_gb_exp-01_trial-003.txt', 'data_gb_exp-01_trial-004.txt', 'data_gb_exp-01_trial-005.txt', 'data_gb_exp-01_trial-006.txt', 'data_gb_exp-01_trial-007.txt', 'data_gb_exp-01_trial-008.txt', 'data_gb_exp-01_trial-009.txt', 'data_gb_exp-01_trial-010.txt', 'data_gb_exp-01_trial-011.txt', 'data_gb_exp-01_trial-012.txt', 'data_gb_exp-01_trial-013.txt', 'data_gb_exp-01_trial-014.txt', 'data_gb_exp-01_trial-015.txt', 'data_gb_exp-01_trial-016.txt', 'data_gb_exp-01_trial-017.txt', 'data_gb_exp-01_trial-018.txt', 'data_gb_exp-01_trial-019.txt', 'data_gb_exp-01_trial-020.txt', 'data_gb_exp-01_trial-021.txt', 'data_gb_exp-01_trial-022.txt', 'data_gb_exp-01_trial-023.txt', 'data_gb_exp-01_trial-024.txt', 'data_gb_exp-01_trial-025.txt', 'data_gb_exp-01_trial-026.txt', 'data_gb_exp-01_trial-027.txt', 'data_gb_exp-01_trial-028.txt', 'data_gb_exp-01_trial-029.txt', 'data_gb_exp-01_trial-030.txt', 'data_gb_exp-01_trial-031.txt', 'data_gb_exp-01_trial-032.txt', 'data_gb_exp-01_trial-033.txt', 'data_gb_exp-01_trial-034.txt', 'data_gb_exp-01_trial-035.txt', 'data_gb_exp-01_trial-036.txt', 'data_gb_exp-01_trial-037.txt', 'data_gb_exp-01_trial-038.txt', 'data_gb_exp-01_trial-039.txt', 'data_gb_exp-01_trial-040.txt', 'data_gb_exp-01_trial-041.txt', 'data_gb_exp-01_trial-042.txt', 'data_gb_exp-01_trial-043.txt', 'data_gb_exp-01_trial-044.txt', 'data_gb_exp-01_trial-045.txt', 'data_gb_exp-01_trial-046.txt', 'data_gb_exp-01_trial-047.txt', 'data_gb_exp-01_trial-048.txt', 'data_gb_exp-01_trial-049.txt', 'data_gb_exp-01_trial-050.txt', 'data_gb_exp-02_trial-001.txt', 'data_gb_exp-02_trial-002.txt', 'data_gb_exp-02_trial-003.txt', 'data_gb_exp-02_trial-004.txt', 'data_gb_exp-02_trial-005.txt', 'data_gb_exp-02_trial-006.txt', 'data_gb_exp-02_trial-007.txt', 'data_gb_exp-02_trial-008.txt', 'data_gb_exp-02_trial-009.txt', 'data_gb_exp-02_trial-010.txt', 'data_gb_exp-02_trial-011.txt', 'data_gb_exp-02_trial-012.txt', 'data_gb_exp-02_trial-013.txt', 'data_gb_exp-02_trial-014.txt', 'data_gb_exp-02_trial-015.txt', 'data_gb_exp-02_trial-016.txt', 'data_gb_exp-02_trial-017.txt', 'data_gb_exp-02_trial-018.txt', 'data_gb_exp-02_trial-019.txt', 'data_gb_exp-02_trial-020.txt', 'data_gb_exp-02_trial-021.txt', 'data_gb_exp-02_trial-022.txt', 'data_gb_exp-02_trial-023.txt', 'data_gb_exp-02_trial-024.txt', 'data_gb_exp-02_trial-025.txt', 'data_gb_exp-02_trial-026.txt', 'data_gb_exp-02_trial-027.txt', 'data_gb_exp-02_trial-028.txt', 'data_gb_exp-02_trial-029.txt', 'data_gb_exp-02_trial-030.txt', 'data_gb_exp-02_trial-031.txt', 'data_gb_exp-02_trial-032.txt', 'data_gb_exp-02_trial-033.txt', 'data_gb_exp-02_trial-034.txt', 'data_gb_exp-02_trial-035.txt', 'data_gb_exp-02_trial-036.txt', 'data_gb_exp-02_trial-037.txt', 'data_gb_exp-02_trial-038.txt', 'data_gb_exp-02_trial-039.txt', 'data_gb_exp-02_trial-040.txt', 'data_gb_exp-02_trial-041.txt', 'data_gb_exp-02_trial-042.txt', 'data_gb_exp-02_trial-043.txt', 'data_gb_exp-02_trial-044.txt', 'data_gb_exp-02_trial-045.txt', 'data_gb_exp-02_trial-046.txt', 'data_gb_exp-02_trial-047.txt', 'data_gb_exp-02_trial-048.txt', 'data_gb_exp-02_trial-049.txt', 'data_gb_exp-02_trial-050.txt', 'data_gb_exp-03_trial-001.txt', 'data_gb_exp-03_trial-002.txt', 'data_gb_exp-03_trial-003.txt', 'data_gb_exp-03_trial-004.txt', 'data_gb_exp-03_trial-005.txt', 'data_gb_exp-03_trial-006.txt', 'data_gb_exp-03_trial-007.txt', 'data_gb_exp-03_trial-008.txt', 'data_gb_exp-03_trial-009.txt', 'data_gb_exp-03_trial-010.txt', 'data_gb_exp-03_trial-011.txt', 'data_gb_exp-03_trial-012.txt', 'data_gb_exp-03_trial-013.txt', 'data_gb_exp-03_trial-014.txt', 'data_gb_exp-03_trial-015.txt', 'data_gb_exp-03_trial-016.txt', 'data_gb_exp-03_trial-017.txt', 'data_gb_exp-03_trial-018.txt', 'data_gb_exp-03_trial-019.txt', 'data_gb_exp-03_trial-020.txt', 'data_gb_exp-03_trial-021.txt', 'data_gb_exp-03_trial-022.txt', 'data_gb_exp-03_trial-023.txt', 'data_gb_exp-03_trial-024.txt', 'data_gb_exp-03_trial-025.txt', 'data_gb_exp-03_trial-026.txt', 'data_gb_exp-03_trial-027.txt', 'data_gb_exp-03_trial-028.txt', 'data_gb_exp-03_trial-029.txt', 'data_gb_exp-03_trial-030.txt', 'data_gb_exp-03_trial-031.txt', 'data_gb_exp-03_trial-032.txt', 'data_gb_exp-03_trial-033.txt', 'data_gb_exp-03_trial-034.txt', 'data_gb_exp-03_trial-035.txt', 'data_gb_exp-03_trial-036.txt', 'data_gb_exp-03_trial-037.txt', 'data_gb_exp-03_trial-038.txt', 'data_gb_exp-03_trial-039.txt', 'data_gb_exp-03_trial-040.txt', 'data_gb_exp-03_trial-041.txt', 'data_gb_exp-03_trial-042.txt', 'data_gb_exp-03_trial-043.txt', 'data_gb_exp-03_trial-044.txt', 'data_gb_exp-03_trial-045.txt', 'data_gb_exp-03_trial-046.txt', 'data_gb_exp-03_trial-047.txt', 'data_gb_exp-03_trial-048.txt', 'data_gb_exp-03_trial-049.txt', 'data_gb_exp-03_trial-050.txt', 'data_us_exp-01_trial-001.txt', 'data_us_exp-01_trial-002.txt', 'data_us_exp-01_trial-003.txt', 'data_us_exp-01_trial-004.txt', 'data_us_exp-01_trial-005.txt', 'data_us_exp-01_trial-006.txt', 'data_us_exp-01_trial-007.txt', 'data_us_exp-01_trial-008.txt', 'data_us_exp-01_trial-009.txt', 'data_us_exp-01_trial-010.txt', 'data_us_exp-01_trial-011.txt', 'data_us_exp-01_trial-012.txt', 'data_us_exp-01_trial-013.txt', 'data_us_exp-01_trial-014.txt', 'data_us_exp-01_trial-015.txt', 'data_us_exp-01_trial-016.txt', 'data_us_exp-01_trial-017.txt', 'data_us_exp-01_trial-018.txt', 'data_us_exp-01_trial-019.txt', 'data_us_exp-01_trial-020.txt', 'data_us_exp-01_trial-021.txt', 'data_us_exp-01_trial-022.txt', 'data_us_exp-01_trial-023.txt', 'data_us_exp-01_trial-024.txt', 'data_us_exp-01_trial-025.txt', 'data_us_exp-01_trial-026.txt', 'data_us_exp-01_trial-027.txt', 'data_us_exp-01_trial-028.txt', 'data_us_exp-01_trial-029.txt', 'data_us_exp-01_trial-030.txt', 'data_us_exp-01_trial-031.txt', 'data_us_exp-01_trial-032.txt', 'data_us_exp-01_trial-033.txt', 'data_us_exp-01_trial-034.txt', 'data_us_exp-01_trial-035.txt', 'data_us_exp-01_trial-036.txt', 'data_us_exp-01_trial-037.txt', 'data_us_exp-01_trial-038.txt', 'data_us_exp-01_trial-039.txt', 'data_us_exp-01_trial-040.txt', 'data_us_exp-01_trial-041.txt', 'data_us_exp-01_trial-042.txt', 'data_us_exp-01_trial-043.txt', 'data_us_exp-01_trial-044.txt', 'data_us_exp-01_trial-045.txt', 'data_us_exp-01_trial-046.txt', 'data_us_exp-01_trial-047.txt', 'data_us_exp-01_trial-048.txt', 'data_us_exp-01_trial-049.txt', 'data_us_exp-01_trial-050.txt', 'data_us_exp-02_trial-001.txt', 'data_us_exp-02_trial-002.txt', 'data_us_exp-02_trial-003.txt', 'data_us_exp-02_trial-004.txt', 'data_us_exp-02_trial-005.txt', 'data_us_exp-02_trial-006.txt', 'data_us_exp-02_trial-007.txt', 'data_us_exp-02_trial-008.txt', 'data_us_exp-02_trial-009.txt', 'data_us_exp-02_trial-010.txt', 'data_us_exp-02_trial-011.txt', 'data_us_exp-02_trial-012.txt', 'data_us_exp-02_trial-013.txt', 'data_us_exp-02_trial-014.txt', 'data_us_exp-02_trial-015.txt', 'data_us_exp-02_trial-016.txt', 'data_us_exp-02_trial-017.txt', 'data_us_exp-02_trial-018.txt', 'data_us_exp-02_trial-019.txt', 'data_us_exp-02_trial-020.txt', 'data_us_exp-02_trial-021.txt', 'data_us_exp-02_trial-022.txt', 'data_us_exp-02_trial-023.txt', 'data_us_exp-02_trial-024.txt', 'data_us_exp-02_trial-025.txt', 'data_us_exp-02_trial-026.txt', 'data_us_exp-02_trial-027.txt', 'data_us_exp-02_trial-028.txt', 'data_us_exp-02_trial-029.txt', 'data_us_exp-02_trial-030.txt', 'data_us_exp-02_trial-031.txt', 'data_us_exp-02_trial-032.txt', 'data_us_exp-02_trial-033.txt', 'data_us_exp-02_trial-034.txt', 'data_us_exp-02_trial-035.txt', 'data_us_exp-02_trial-036.txt', 'data_us_exp-02_trial-037.txt', 'data_us_exp-02_trial-038.txt', 'data_us_exp-02_trial-039.txt', 'data_us_exp-02_trial-040.txt', 'data_us_exp-02_trial-041.txt', 'data_us_exp-02_trial-042.txt', 'data_us_exp-02_trial-043.txt', 'data_us_exp-02_trial-044.txt', 'data_us_exp-02_trial-045.txt', 'data_us_exp-02_trial-046.txt', 'data_us_exp-02_trial-047.txt', 'data_us_exp-02_trial-048.txt', 'data_us_exp-02_trial-049.txt', 'data_us_exp-02_trial-050.txt', 'data_us_exp-03_trial-001.txt', 'data_us_exp-03_trial-002.txt', 'data_us_exp-03_trial-003.txt', 'data_us_exp-03_trial-004.txt', 'data_us_exp-03_trial-005.txt', 'data_us_exp-03_trial-006.txt', 'data_us_exp-03_trial-007.txt', 'data_us_exp-03_trial-008.txt', 'data_us_exp-03_trial-009.txt', 'data_us_exp-03_trial-010.txt', 'data_us_exp-03_trial-011.txt', 'data_us_exp-03_trial-012.txt', 'data_us_exp-03_trial-013.txt', 'data_us_exp-03_trial-014.txt', 'data_us_exp-03_trial-015.txt', 'data_us_exp-03_trial-016.txt', 'data_us_exp-03_trial-017.txt', 'data_us_exp-03_trial-018.txt', 'data_us_exp-03_trial-019.txt', 'data_us_exp-03_trial-020.txt', 'data_us_exp-03_trial-021.txt', 'data_us_exp-03_trial-022.txt', 'data_us_exp-03_trial-023.txt', 'data_us_exp-03_trial-024.txt', 'data_us_exp-03_trial-025.txt', 'data_us_exp-03_trial-026.txt', 'data_us_exp-03_trial-027.txt', 'data_us_exp-03_trial-028.txt', 'data_us_exp-03_trial-029.txt', 'data_us_exp-03_trial-030.txt', 'data_us_exp-03_trial-031.txt', 'data_us_exp-03_trial-032.txt', 'data_us_exp-03_trial-033.txt', 'data_us_exp-03_trial-034.txt', 'data_us_exp-03_trial-035.txt', 'data_us_exp-03_trial-036.txt', 'data_us_exp-03_trial-037.txt', 'data_us_exp-03_trial-038.txt', 'data_us_exp-03_trial-039.txt', 'data_us_exp-03_trial-040.txt', 'data_us_exp-03_trial-041.txt', 'data_us_exp-03_trial-042.txt', 'data_us_exp-03_trial-043.txt', 'data_us_exp-03_trial-044.txt', 'data_us_exp-03_trial-045.txt', 'data_us_exp-03_trial-046.txt', 'data_us_exp-03_trial-047.txt', 'data_us_exp-03_trial-048.txt', 'data_us_exp-03_trial-049.txt', 'data_us_exp-03_trial-050.txt']\n"
     ]
    }
   ],
   "source": [
    "ex2=[]\n",
    "numbers=[]\n",
    "countries = [\"sg\", \"gb\", \"us\"]\n",
    "experiments = [\"01\", \"02\", \"03\"]\n",
    "\n",
    "\n",
    "number = 1\n",
    "while number < 51:\n",
    "    numbers.append(f'{number:03d}')\n",
    "    number += 1\n",
    "    \n",
    "for country in countries:\n",
    "    for experiment in experiments:\n",
    "        for number in numbers:\n",
    "            ex2.append(f\"data_{country}_exp-{experiment}_trial-{number}.txt\")\n",
    "            \n",
    "print(ex2)"
   ]
  },
  {
   "cell_type": "markdown",
   "id": "e609aee6",
   "metadata": {},
   "source": [
    "## Exercise 2 :  Tutti frutti"
   ]
  },
  {
   "cell_type": "code",
   "execution_count": 6,
   "id": "4dc0656a",
   "metadata": {},
   "outputs": [],
   "source": [
    "fruits = [\"apple\", \"banana\", \"pineapple\", \"jackfruit\",\n",
    "        \"peach\", \"durian\", \"watermelon\", \"mango\",\n",
    "        \"strawberry\", \"passionfruit\"]"
   ]
  },
  {
   "cell_type": "code",
   "execution_count": 7,
   "id": "fab6748d",
   "metadata": {},
   "outputs": [
    {
     "data": {
      "text/plain": [
       "True"
      ]
     },
     "execution_count": 7,
     "metadata": {},
     "output_type": "execute_result"
    }
   ],
   "source": [
    "\"mango\" in fruits"
   ]
  },
  {
   "cell_type": "code",
   "execution_count": 15,
   "id": "ab5ecbd7",
   "metadata": {
    "scrolled": true
   },
   "outputs": [
    {
     "name": "stdout",
     "output_type": "stream",
     "text": [
      "a, e\n",
      "b, a\n",
      "p, e\n",
      "j, t\n",
      "p, h\n",
      "d, n\n",
      "w, n\n",
      "m, o\n",
      "s, y\n",
      "p, t\n"
     ]
    }
   ],
   "source": [
    "for fruit in fruits:\n",
    "    print(f\"{fruit[0]}, {fruit[-1]}\")"
   ]
  },
  {
   "cell_type": "code",
   "execution_count": 30,
   "id": "d67a97d9",
   "metadata": {},
   "outputs": [
    {
     "name": "stdout",
     "output_type": "stream",
     "text": [
      "apple\n",
      "banana\n",
      "PINEAPPLE\n",
      "jackfruit\n",
      "PEACH\n",
      "durian\n",
      "watermelon\n",
      "mango\n",
      "strawberry\n",
      "PASSIONFRUIT\n"
     ]
    }
   ],
   "source": [
    "for fruit in fruits:\n",
    "    if fruit[0]== 'p':\n",
    "        print(fruit.upper())\n",
    "    else:\n",
    "        print(fruit)\n",
    "    \n",
    "    "
   ]
  },
  {
   "cell_type": "code",
   "execution_count": 37,
   "id": "ec82e8cc",
   "metadata": {},
   "outputs": [
    {
     "data": {
      "text/plain": [
       "['apple',\n",
       " 'banana',\n",
       " 'pineapple',\n",
       " 'jackfruit',\n",
       " 'peach',\n",
       " 'durian',\n",
       " 'watermelon',\n",
       " 'mango',\n",
       " 'strawberry',\n",
       " 'passionfruit',\n",
       " 'dragon fruit',\n",
       " 'apricots',\n",
       " 'oranges']"
      ]
     },
     "execution_count": 37,
     "metadata": {},
     "output_type": "execute_result"
    }
   ],
   "source": [
    "fruits1= [\"apple\", \"banana\", \"pineapple\", \"jackfruit\",\n",
    "        \"peach\", \"durian\", \"watermelon\", \"mango\",\n",
    "        \"strawberry\", \"passionfruit\"]\n",
    "fruits1 += [\"dragon fruit\", \"apricots\", \"oranges\"]\n",
    "fruits1"
   ]
  },
  {
   "cell_type": "code",
   "execution_count": 33,
   "id": "22977f08",
   "metadata": {
    "scrolled": true
   },
   "outputs": [
    {
     "data": {
      "text/plain": [
       "['apple',\n",
       " 'banana',\n",
       " 'pineapple',\n",
       " 'jackfruit',\n",
       " 'peach',\n",
       " 'durian',\n",
       " 'watermelon',\n",
       " 'mango',\n",
       " 'strawberry',\n",
       " 'passionfruit',\n",
       " 'dragon fruit',\n",
       " 'apricots',\n",
       " 'oranges']"
      ]
     },
     "execution_count": 33,
     "metadata": {},
     "output_type": "execute_result"
    }
   ],
   "source": [
    "fruits2=[\"dragon fruit\", \"apricots\", \"oranges\"]\n",
    "fruits3 = fruits + fruits2\n",
    "fruits3"
   ]
  },
  {
   "cell_type": "code",
   "execution_count": 42,
   "id": "64fdf304",
   "metadata": {},
   "outputs": [
    {
     "data": {
      "text/plain": [
       "['apple',\n",
       " 'banana',\n",
       " 'pineapple',\n",
       " 'jackfruit',\n",
       " 'peach',\n",
       " 'dragon fruit',\n",
       " 'apricots',\n",
       " 'oranges',\n",
       " 'durian',\n",
       " 'watermelon',\n",
       " 'mango',\n",
       " 'strawberry',\n",
       " 'passionfruit']"
      ]
     },
     "execution_count": 42,
     "metadata": {},
     "output_type": "execute_result"
    }
   ],
   "source": [
    "fruits5=[\"apple\", \"banana\", \"pineapple\", \"jackfruit\",\n",
    "        \"peach\", \"durian\", \"watermelon\", \"mango\",\n",
    "        \"strawberry\", \"passionfruit\"]\n",
    "fruits5=fruits5[:5] + fruits2 + fruits5[5:]\n",
    "\n",
    "fruits5"
   ]
  },
  {
   "cell_type": "code",
   "execution_count": 54,
   "id": "3100258d",
   "metadata": {},
   "outputs": [
    {
     "name": "stdout",
     "output_type": "stream",
     "text": [
      "pineapple\n",
      "jackfruit\n",
      "dragon fruit\n",
      "watermelon\n",
      "strawberry\n",
      "passionfruit\n"
     ]
    }
   ],
   "source": [
    "for fruit in fruits5:\n",
    "    if len(fruit)>8:\n",
    "        print(fruit)"
   ]
  },
  {
   "cell_type": "markdown",
   "id": "55a3c202",
   "metadata": {},
   "source": [
    "## Exercise 3 :  Ciao Fibonacci"
   ]
  },
  {
   "cell_type": "code",
   "execution_count": 66,
   "id": "65028d39",
   "metadata": {},
   "outputs": [
    {
     "name": "stdout",
     "output_type": "stream",
     "text": [
      "[0, 1, 1, 2, 3, 5, 8, 13, 21, 34, 55, 89, 144, 233, 377]\n"
     ]
    }
   ],
   "source": [
    "fibonnaci=[0, 1]\n",
    "for i in range(2,15):\n",
    "    number = fibonnaci[i-1] + fibonnaci[i-2]\n",
    "    fibonnaci.append(number)\n",
    "\n",
    "print(fibonnaci)\n",
    "    \n",
    "\n"
   ]
  },
  {
   "cell_type": "markdown",
   "id": "b230415e",
   "metadata": {},
   "source": [
    "## Exercise 4 :  A function for Fibonacci"
   ]
  },
  {
   "cell_type": "code",
   "execution_count": 10,
   "id": "5aa07d88",
   "metadata": {},
   "outputs": [
    {
     "data": {
      "text/plain": [
       "[0, 1, 1, 2, 3, 5, 8, 13, 21, 34, 55, 89, 144, 233, 377, 610]"
      ]
     },
     "execution_count": 10,
     "metadata": {},
     "output_type": "execute_result"
    }
   ],
   "source": [
    "def fibonnaci(n):\n",
    "        if n in {0,1}:\n",
    "            return n\n",
    "        return fibonnaci (n-1) + fibonnaci (n-2)\n",
    "    \n",
    "[fibonnaci(n) for n in range(16)]\n",
    "        \n",
    "        "
   ]
  },
  {
   "cell_type": "markdown",
   "id": "bee81849",
   "metadata": {},
   "source": [
    "## Exercise 5 :  max_info() without NumPy"
   ]
  },
  {
   "cell_type": "code",
   "execution_count": 36,
   "id": "435c2220",
   "metadata": {},
   "outputs": [
    {
     "data": {
      "text/plain": [
       "1"
      ]
     },
     "execution_count": 36,
     "metadata": {},
     "output_type": "execute_result"
    }
   ],
   "source": [
    "numbers.index(27)"
   ]
  },
  {
   "cell_type": "code",
   "execution_count": 68,
   "id": "64e66dee",
   "metadata": {},
   "outputs": [
    {
     "name": "stdout",
     "output_type": "stream",
     "text": [
      "(83, 2)\n"
     ]
    }
   ],
   "source": [
    "numbers = [40, 27, 83, 44, 74, 51, 76, 77, 10, 49]\n",
    "\n",
    "\n",
    "def max_info(numbers):\n",
    "    my_max = numbers[0]\n",
    "    for x in numbers:\n",
    "        if x > my_max:\n",
    "            my_max = x\n",
    "    for y in range(len(numbers)):\n",
    "        if numbers[y] == my_max:\n",
    "            my_max_index = y\n",
    "            return my_max, my_max_index\n",
    "print (max_info(numbers))\n",
    "            "
   ]
  },
  {
   "cell_type": "code",
   "execution_count": 34,
   "id": "e741ec9a",
   "metadata": {},
   "outputs": [
    {
     "data": {
      "text/plain": [
       "2"
      ]
     },
     "execution_count": 34,
     "metadata": {},
     "output_type": "execute_result"
    }
   ],
   "source": [
    "my_max_index = numbers.index(my_max)\n",
    "\n",
    "my_max_index"
   ]
  },
  {
   "cell_type": "code",
   "execution_count": 35,
   "id": "fd962bd2",
   "metadata": {},
   "outputs": [
    {
     "data": {
      "text/plain": [
       "[2]"
      ]
     },
     "execution_count": 35,
     "metadata": {},
     "output_type": "execute_result"
    }
   ],
   "source": [
    "for y in range(len(numbers)):\n",
    "    if numbers[y] == my_max:\n",
    "        my_max_index = y\n",
    "        \n",
    "my_max_index\n",
    "        print(my_max, numbers.index(my_max))\n",
    "    \n",
    "    print(my_max, numbers.index(my_max))"
   ]
  },
  {
   "cell_type": "markdown",
   "id": "d2d20d6b",
   "metadata": {},
   "source": [
    "## Exercise 6 :  Take count"
   ]
  },
  {
   "cell_type": "code",
   "execution_count": 2,
   "id": "7ff5c16a",
   "metadata": {},
   "outputs": [],
   "source": [
    "DNA = 'AGGCAAGAAGCTAGAATTCTGGCCTGAGTATCTCAGTACAGGCGCAGTCGAATCTTCCGGAATCACATTGCTCGCGCTTAAACCCGCTCTAAACCTTTGAGTAATTCGACGACATTGGGTTCCCTCCGACGCTGTCTGACAACTCTTTAAGATCCTTGGCACGATGTCGATAGACATTGTCCCTGATGACGCCTCACAAGGTAACCTGGCTCTAGTAGGGTGGTCTTTGCTGCGGAACTTACCACCTGGTGGATCCAAGCACCAGAGGAGTTCGAAGAGGCTGGGGTACCCCCTATTTAGGAAGGGCGAGACTACGGTCACAAATTCCAAATGGCTTCCCTCGATTCATGACGCCAGAATGCCTGGCTGTGCCAATTTGTCGCCTTGCGTCGTTCTGTCAATCTTTACTCGTGTCGTGTTGTGATAAATGACAAACCCTGCACAACGTAGGGCTCACACAAGGGAATCTAGAGTATCCGATACAGGGAGCTTTAGCTTCCGTCCCTTATAGCCTGCCATATTCTTGCGGTAGCACGAGCCTCAGATCTTCTCACTCCGGAAATGGGAGCTTCGACGGTCAAGGGCTAAGACGTCTTCGGGAGAAATACCTAGGCGATGACCCTGAGTGGTTTTCCGCGTATAACTCATCCTGGTTGCAAATGATTACCGTTATAGCCTGGGGATATGCCTCAATTCCGAACCCAGGAGCATCACTCGAGCAATAGCGGTAAAGGAGGCTATTAGCAAAATTGTCACGATAAGCGCCGTTGTAGTGAAATTAAGATACATACATCGTTTAGCACATCACTCTCACGGCGTCTAGAAGCTGATCTTCATATGCTGACTCAGAAGGCTCGGATAATAGAGGACGAAGGTAGTTTACTCATCGCTGCCCCGACTATTACGTGTGCATGATAAAGTCTGACCCTGACGTTCCCAAGCCGAGGCAGAGGGGTTTTACGCTGAATGTCCGCTCTCTGTCGGATGATTTCGGAAGCTG'\n",
    "seq=[*DNA]"
   ]
  },
  {
   "cell_type": "code",
   "execution_count": 6,
   "id": "5433267e",
   "metadata": {},
   "outputs": [
    {
     "data": {
      "text/plain": [
       "254"
      ]
     },
     "execution_count": 6,
     "metadata": {},
     "output_type": "execute_result"
    }
   ],
   "source": [
    "thymine=0\n",
    "for i in seq:\n",
    "    if i == \"T\":\n",
    "        thymine+=1\n",
    "        \n",
    "thymine"
   ]
  },
  {
   "cell_type": "code",
   "execution_count": 3,
   "id": "77978d67",
   "metadata": {},
   "outputs": [
    {
     "data": {
      "text/plain": [
       "254"
      ]
     },
     "execution_count": 3,
     "metadata": {},
     "output_type": "execute_result"
    }
   ],
   "source": [
    "len([number for number in seq if number == \"T\"])"
   ]
  },
  {
   "cell_type": "code",
   "execution_count": 17,
   "id": "1e18f979",
   "metadata": {},
   "outputs": [
    {
     "name": "stdout",
     "output_type": "stream",
     "text": [
      "247 250 249 254\n"
     ]
    },
    {
     "data": {
      "text/plain": [
       "{'A': '247', 'C': '250', 'G': '249', 'T': '254'}"
      ]
     },
     "execution_count": 17,
     "metadata": {},
     "output_type": "execute_result"
    }
   ],
   "source": [
    "thymine=0\n",
    "for i in seq:\n",
    "    if i == \"T\":\n",
    "        thymine+=1\n",
    "\n",
    "adenine = 0\n",
    "for i in seq:\n",
    "    if i == \"A\":\n",
    "        adenine+=1\n",
    "        \n",
    "cytosine = 0\n",
    "for i in seq:\n",
    "    if i == \"C\":\n",
    "        cytosine+=1\n",
    "\n",
    "guanine = 0\n",
    "for i in seq:\n",
    "    if i == \"G\":\n",
    "        guanine +=1\n",
    "\n",
    "print(adenine, cytosine, guanine, thymine)\n",
    "\n",
    "base_list= ['A', 'C', 'G', 'T']\n",
    "number_list = ['247', '250', '249', '254']\n",
    "dict(zip(base_list, number_list))"
   ]
  },
  {
   "cell_type": "code",
   "execution_count": 20,
   "id": "7101d8ce",
   "metadata": {},
   "outputs": [
    {
     "name": "stdout",
     "output_type": "stream",
     "text": [
      "(array(['A', 'C', 'G', 'T'], dtype='<U1'), array([247, 250, 249, 254], dtype=int64))\n"
     ]
    }
   ],
   "source": [
    "import numpy as np\n",
    "np_seq = np.array(seq)\n",
    "x = np.unique(np_seq, return_counts=True)\n",
    "print(x)"
   ]
  },
  {
   "cell_type": "code",
   "execution_count": 32,
   "id": "cc78e5b7",
   "metadata": {},
   "outputs": [
    {
     "name": "stdout",
     "output_type": "stream",
     "text": [
      "['AGGC', 'AAGA', 'AGCT', 'AGAA', 'TTCT', 'GGCC', 'TGAG', 'TATC', 'TCAG', 'TACA', 'GGCG', 'CAGT', 'CGAA', 'TCTT', 'CCGG', 'AATC', 'ACAT', 'TGCT', 'CGCG', 'CTTA', 'AACC', 'CGCT', 'CTAA', 'ACCT', 'TTGA', 'GTAA', 'TTCG', 'ACGA', 'CATT', 'GGGT', 'TCCC', 'TCCG', 'ACGC', 'TGTC', 'TGAC', 'AACT', 'CTTT', 'AAGA', 'TCCT', 'TGGC', 'ACGA', 'TGTC', 'GATA', 'GACA', 'TTGT', 'CCCT', 'GATG', 'ACGC', 'CTCA', 'CAAG', 'GTAA', 'CCTG', 'GCTC', 'TAGT', 'AGGG', 'TGGT', 'CTTT', 'GCTG', 'CGGA', 'ACTT', 'ACCA', 'CCTG', 'GTGG', 'ATCC', 'AAGC', 'ACCA', 'GAGG', 'AGTT', 'CGAA', 'GAGG', 'CTGG', 'GGTA', 'CCCC', 'CTAT', 'TTAG', 'GAAG', 'GGCG', 'AGAC', 'TACG', 'GTCA', 'CAAA', 'TTCC', 'AAAT', 'GGCT', 'TCCC', 'TCGA', 'TTCA', 'TGAC', 'GCCA', 'GAAT', 'GCCT', 'GGCT', 'GTGC', 'CAAT', 'TTGT', 'CGCC', 'TTGC', 'GTCG', 'TTCT', 'GTCA', 'ATCT', 'TTAC', 'TCGT', 'GTCG', 'TGTT', 'GTGA', 'TAAA', 'TGAC', 'AAAC', 'CCTG', 'CACA', 'ACGT', 'AGGG', 'CTCA', 'CACA', 'AGGG', 'AATC', 'TAGA', 'GTAT', 'CCGA', 'TACA', 'GGGA', 'GCTT', 'TAGC', 'TTCC', 'GTCC', 'CTTA', 'TAGC', 'CTGC', 'CATA', 'TTCT', 'TGCG', 'GTAG', 'CACG', 'AGCC', 'TCAG', 'ATCT', 'TCTC', 'ACTC', 'CGGA', 'AATG', 'GGAG', 'CTTC', 'GACG', 'GTCA', 'AGGG', 'CTAA', 'GACG', 'TCTT', 'CGGG', 'AGAA', 'ATAC', 'CTAG', 'GCGA', 'TGAC', 'CCTG', 'AGTG', 'GTTT', 'TCCG', 'CGTA', 'TAAC', 'TCAT', 'CCTG', 'GTTG', 'CAAA', 'TGAT', 'TACC', 'GTTA', 'TAGC', 'CTGG', 'GGAT', 'ATGC', 'CTCA', 'ATTC', 'CGAA', 'CCCA', 'GGAG', 'CATC', 'ACTC', 'GAGC', 'AATA', 'GCGG', 'TAAA', 'GGAG', 'GCTA', 'TTAG', 'CAAA', 'ATTG', 'TCAC', 'GATA', 'AGCG', 'CCGT', 'TGTA', 'GTGA', 'AATT', 'AAGA', 'TACA', 'TACA', 'TCGT', 'TTAG', 'CACA', 'TCAC', 'TCTC', 'ACGG', 'CGTC', 'TAGA', 'AGCT', 'GATC', 'TTCA', 'TATG', 'CTGA', 'CTCA', 'GAAG', 'GCTC', 'GGAT', 'AATA', 'GAGG', 'ACGA', 'AGGT', 'AGTT', 'TACT', 'CATC', 'GCTG', 'CCCC', 'GACT', 'ATTA', 'CGTG', 'TGCA', 'TGAT', 'AAAG', 'TCTG', 'ACCC', 'TGAC', 'GTTC', 'CCAA', 'GCCG', 'AGGC', 'AGAG', 'GGGT', 'TTTA', 'CGCT', 'GAAT', 'GTCC', 'GCTC', 'TCTG', 'TCGG', 'ATGA', 'TTTC', 'GGAA', 'GCTG']\n"
     ]
    }
   ],
   "source": [
    "subset = [DNA[i:i+4] for i in range(0,len(DNA),4)]\n",
    "print(subset)"
   ]
  }
 ],
 "metadata": {
  "kernelspec": {
   "display_name": "Python 3 (ipykernel)",
   "language": "python",
   "name": "python3"
  },
  "language_info": {
   "codemirror_mode": {
    "name": "ipython",
    "version": 3
   },
   "file_extension": ".py",
   "mimetype": "text/x-python",
   "name": "python",
   "nbconvert_exporter": "python",
   "pygments_lexer": "ipython3",
   "version": "3.10.8"
  },
  "toc": {
   "base_numbering": 1,
   "nav_menu": {},
   "number_sections": true,
   "sideBar": true,
   "skip_h1_title": false,
   "title_cell": "Table of Contents",
   "title_sidebar": "Contents",
   "toc_cell": false,
   "toc_position": {},
   "toc_section_display": true,
   "toc_window_display": false
  },
  "varInspector": {
   "cols": {
    "lenName": 16,
    "lenType": 16,
    "lenVar": 40
   },
   "kernels_config": {
    "python": {
     "delete_cmd_postfix": "",
     "delete_cmd_prefix": "del ",
     "library": "var_list.py",
     "varRefreshCmd": "print(var_dic_list())"
    },
    "r": {
     "delete_cmd_postfix": ") ",
     "delete_cmd_prefix": "rm(",
     "library": "var_list.r",
     "varRefreshCmd": "cat(var_dic_list()) "
    }
   },
   "types_to_exclude": [
    "module",
    "function",
    "builtin_function_or_method",
    "instance",
    "_Feature"
   ],
   "window_display": false
  },
  "vscode": {
   "interpreter": {
    "hash": "31f2aee4e71d21fbe5cf8b01ff0e069b9275f58929596ceb00d14d90e3e16cd6"
   }
  }
 },
 "nbformat": 4,
 "nbformat_minor": 5
}
