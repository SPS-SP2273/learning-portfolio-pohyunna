{
 "cells": [
  {
   "cell_type": "markdown",
   "id": "123456",
   "metadata": {},
   "source": [
    "<div style=\"text-align:left;font-size:2em\"><span style=\"font-weight:bolder;font-size:1.25em\">SP2273 | Learning Portfolio</span><br><br><span style=\"font-weight:bold;color:darkred\">Loops (Need)</span></div>"
   ]
  },
  {
   "cell_type": "markdown",
   "id": "d75cb446",
   "metadata": {},
   "source": [
    "## 1 for"
   ]
  },
  {
   "cell_type": "code",
   "execution_count": 1,
   "id": "0626c07d",
   "metadata": {},
   "outputs": [],
   "source": [
    "real_names = [\"Natasha Romanoff\", \"Tony Stark\", \"Stephen Strange\"]"
   ]
  },
  {
   "cell_type": "code",
   "execution_count": 8,
   "id": "9eaaf5b7",
   "metadata": {},
   "outputs": [
    {
     "name": "stdout",
     "output_type": "stream",
     "text": [
      "Natasha Romanoff is a Marvel superhero!\n",
      "Tony Stark is a Marvel superhero!\n",
      "Stephen Strange is a Marvel superhero!\n"
     ]
    }
   ],
   "source": [
    "name=real_names[0]\n",
    "print(f\"{name} is a Marvel superhero!\")\n",
    "\n",
    "name=real_names[1]\n",
    "print(f\"{name} is a Marvel superhero!\")\n",
    "\n",
    "name=real_names[2]\n",
    "print(f\"{name} is a Marvel superhero!\")"
   ]
  },
  {
   "cell_type": "markdown",
   "id": "2b98363c",
   "metadata": {},
   "source": [
    "### 1.1 for with a list"
   ]
  },
  {
   "cell_type": "code",
   "execution_count": 7,
   "id": "93c8ebd3",
   "metadata": {},
   "outputs": [
    {
     "name": "stdout",
     "output_type": "stream",
     "text": [
      "Natasha Romanoff is a Marvel superhero!\n",
      "Tony Stark is a Marvel superhero!\n",
      "Stephen Strange is a Marvel superhero!\n"
     ]
    }
   ],
   "source": [
    "for name in real_names:\n",
    "    print(f\"{name} is a Marvel superhero!\")"
   ]
  },
  {
   "cell_type": "markdown",
   "id": "e7f3c0a9",
   "metadata": {},
   "source": [
    "### 1.2 for with enumerate"
   ]
  },
  {
   "cell_type": "code",
   "execution_count": 9,
   "id": "c5d15347",
   "metadata": {
    "scrolled": true
   },
   "outputs": [],
   "source": [
    "super_names = [\"Black Widow\", \"Iron Man\", \"Doctor Strange\"]\n",
    "real_names = [\"Natasha Romanoff\", \"Tony Stark\", \"Stephen Strange\"]"
   ]
  },
  {
   "cell_type": "code",
   "execution_count": 13,
   "id": "2a364e3e",
   "metadata": {},
   "outputs": [
    {
     "name": "stdout",
     "output_type": "stream",
     "text": [
      "0:Natasha Romanoff is a Marvel superhero!\n",
      "1:Tony Stark is a Marvel superhero!\n",
      "2:Stephen Strange is a Marvel superhero!\n"
     ]
    }
   ],
   "source": [
    "for i, name in enumerate(real_names):\n",
    "    print(f'{i}:{name} is a Marvel superhero!')"
   ]
  },
  {
   "cell_type": "code",
   "execution_count": 19,
   "id": "f8648873",
   "metadata": {},
   "outputs": [
    {
     "name": "stdout",
     "output_type": "stream",
     "text": [
      "Natasha Romanoff is Black Widow!\n",
      "Tony Stark is Iron Man!\n",
      "Stephen Strange is Doctor Strange!\n"
     ]
    }
   ],
   "source": [
    "for i, name in enumerate(real_names):\n",
    "    superhero_name = super_names[i]\n",
    "    print(f'{name} is {superhero_name}!')"
   ]
  },
  {
   "cell_type": "code",
   "execution_count": 21,
   "id": "7e7edf37",
   "metadata": {},
   "outputs": [
    {
     "name": "stdout",
     "output_type": "stream",
     "text": [
      "100:Natasha Romanoff is a Marvel superhero!\n",
      "101:Tony Stark is a Marvel superhero!\n",
      "102:Stephen Strange is a Marvel superhero!\n"
     ]
    }
   ],
   "source": [
    "for i, name in enumerate(real_names, 100):\n",
    "    print(f'{i}:{name} is a Marvel superhero!')"
   ]
  },
  {
   "cell_type": "markdown",
   "id": "2899c0d8",
   "metadata": {},
   "source": [
    "### 1.3 for with range"
   ]
  },
  {
   "cell_type": "code",
   "execution_count": 22,
   "id": "ba9f107b",
   "metadata": {},
   "outputs": [
    {
     "name": "stdout",
     "output_type": "stream",
     "text": [
      "0\n",
      "1\n",
      "2\n",
      "3\n",
      "4\n"
     ]
    }
   ],
   "source": [
    "for i in range(5):\n",
    "    print(i)"
   ]
  },
  {
   "cell_type": "code",
   "execution_count": 23,
   "id": "05ff467e",
   "metadata": {},
   "outputs": [
    {
     "name": "stdout",
     "output_type": "stream",
     "text": [
      "5\n",
      "6\n",
      "7\n",
      "8\n",
      "9\n"
     ]
    }
   ],
   "source": [
    "for i in range(5,10):\n",
    "    print(i)"
   ]
  },
  {
   "cell_type": "code",
   "execution_count": 24,
   "id": "c38b07ad",
   "metadata": {},
   "outputs": [
    {
     "name": "stdout",
     "output_type": "stream",
     "text": [
      "1\n",
      "4\n",
      "7\n"
     ]
    }
   ],
   "source": [
    "for i in range(1,10,3):\n",
    "    print(i)"
   ]
  },
  {
   "cell_type": "code",
   "execution_count": 28,
   "id": "e72e1fc6",
   "metadata": {},
   "outputs": [
    {
     "name": "stdout",
     "output_type": "stream",
     "text": [
      "Natasha Romanoff is Marvel's Black Widow!\n",
      "Tony Stark is Marvel's Iron Man!\n",
      "Stephen Strange is Marvel's Doctor Strange!\n"
     ]
    }
   ],
   "source": [
    "for i in range(len(real_names)):\n",
    "    real_name = real_names[i]\n",
    "    super_name = super_names[i]\n",
    "    print(f\"{real_name} is Marvel's {super_name}!\")"
   ]
  },
  {
   "cell_type": "markdown",
   "id": "5dd576f8",
   "metadata": {},
   "source": [
    "## 2 while"
   ]
  },
  {
   "cell_type": "code",
   "execution_count": 30,
   "id": "6507b90d",
   "metadata": {},
   "outputs": [
    {
     "name": "stdout",
     "output_type": "stream",
     "text": [
      "0\n",
      "1\n",
      "2\n",
      "3\n",
      "4\n"
     ]
    }
   ],
   "source": [
    "number = 0\n",
    "\n",
    "while number < 5:\n",
    "    print(number)\n",
    "    number += 1\n"
   ]
  },
  {
   "cell_type": "markdown",
   "id": "b3ceaad9",
   "metadata": {},
   "source": [
    "## Exercise 1 :  Make me a list"
   ]
  },
  {
   "cell_type": "code",
   "execution_count": 85,
   "id": "3d20463b",
   "metadata": {},
   "outputs": [
    {
     "name": "stdout",
     "output_type": "stream",
     "text": [
      "[0, 1, 4, 9, 16, 25, 36, 49, 64, 81]\n"
     ]
    }
   ],
   "source": [
    "ex1=[]\n",
    "\n",
    "for i in range(10):\n",
    "    ex1.append(i**2)\n",
    "    \n",
    "print(ex1)"
   ]
  },
  {
   "cell_type": "markdown",
   "id": "cc53e59e",
   "metadata": {},
   "source": [
    "## Exercise 2 :  Make me an odd list"
   ]
  },
  {
   "cell_type": "code",
   "execution_count": 81,
   "id": "23f283a3",
   "metadata": {},
   "outputs": [
    {
     "name": "stdout",
     "output_type": "stream",
     "text": [
      "[1, 9, 25, 49, 81]\n"
     ]
    }
   ],
   "source": [
    "ex2=[]\n",
    "\n",
    "for i in range(0,10,2):\n",
    "    ex2.append((i+1)**2)\n",
    "    \n",
    "print(ex2)"
   ]
  },
  {
   "cell_type": "markdown",
   "id": "cd658196",
   "metadata": {},
   "source": [
    "## Exercise 3 :  Make me another odd list"
   ]
  },
  {
   "cell_type": "code",
   "execution_count": 71,
   "id": "9b04f00c",
   "metadata": {},
   "outputs": [
    {
     "name": "stdout",
     "output_type": "stream",
     "text": [
      "[1, 9, 25, 49, 81]\n"
     ]
    }
   ],
   "source": [
    "ex3=[]\n",
    "number = 1\n",
    "\n",
    "while number < 10:\n",
    "    ex3.append(number**2)\n",
    "    number += 2\n",
    "    \n",
    "print(ex3)\n",
    "    \n"
   ]
  }
 ],
 "metadata": {
  "kernelspec": {
   "display_name": "Python 3 (ipykernel)",
   "language": "python",
   "name": "python3"
  },
  "language_info": {
   "codemirror_mode": {
    "name": "ipython",
    "version": 3
   },
   "file_extension": ".py",
   "mimetype": "text/x-python",
   "name": "python",
   "nbconvert_exporter": "python",
   "pygments_lexer": "ipython3",
   "version": "3.10.8"
  },
  "toc": {
   "base_numbering": 1,
   "nav_menu": {},
   "number_sections": true,
   "sideBar": true,
   "skip_h1_title": false,
   "title_cell": "Table of Contents",
   "title_sidebar": "Contents",
   "toc_cell": false,
   "toc_position": {},
   "toc_section_display": true,
   "toc_window_display": false
  },
  "varInspector": {
   "cols": {
    "lenName": 16,
    "lenType": 16,
    "lenVar": 40
   },
   "kernels_config": {
    "python": {
     "delete_cmd_postfix": "",
     "delete_cmd_prefix": "del ",
     "library": "var_list.py",
     "varRefreshCmd": "print(var_dic_list())"
    },
    "r": {
     "delete_cmd_postfix": ") ",
     "delete_cmd_prefix": "rm(",
     "library": "var_list.r",
     "varRefreshCmd": "cat(var_dic_list()) "
    }
   },
   "types_to_exclude": [
    "module",
    "function",
    "builtin_function_or_method",
    "instance",
    "_Feature"
   ],
   "window_display": false
  },
  "vscode": {
   "interpreter": {
    "hash": "31f2aee4e71d21fbe5cf8b01ff0e069b9275f58929596ceb00d14d90e3e16cd6"
   }
  }
 },
 "nbformat": 4,
 "nbformat_minor": 5
}
