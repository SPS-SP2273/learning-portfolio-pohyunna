{
 "cells": [
  {
   "cell_type": "code",
   "execution_count": 2,
   "id": "0c0446c4",
   "metadata": {},
   "outputs": [
    {
     "name": "stdout",
     "output_type": "stream",
     "text": [
      "Hello World!\n"
     ]
    }
   ],
   "source": [
    "print('Hello World!')"
   ]
  },
  {
   "cell_type": "markdown",
   "id": "34419bb3",
   "metadata": {},
   "source": [
    "The ships hung in the sky in much the same way that bricks don’t."
   ]
  },
  {
   "cell_type": "markdown",
   "id": "29cdf415",
   "metadata": {},
   "source": [
    "The ships *hung in the sky* in much the same way that **bricks don’t.**<sup>1</sup><sub>QUOTE</sub>"
   ]
  },
  {
   "cell_type": "markdown",
   "id": "4b97d166",
   "metadata": {},
   "source": [
    "`print('Hello World')`"
   ]
  },
  {
   "cell_type": "markdown",
   "id": "fccfb2e2",
   "metadata": {},
   "source": [
    "![](https://nus.edu.sg/images/default-source/base/logo.png)"
   ]
  },
  {
   "cell_type": "markdown",
   "id": "65beb85e",
   "metadata": {},
   "source": [
    "###### hello"
   ]
  },
  {
   "cell_type": "markdown",
   "id": "36f3fd33",
   "metadata": {},
   "source": [
    "1. apple\n",
    "2. orange"
   ]
  },
  {
   "cell_type": "markdown",
   "id": "e154dfb4",
   "metadata": {},
   "source": [
    "1. apple\n",
    "1. is red"
   ]
  },
  {
   "cell_type": "markdown",
   "id": "8fa23e8d",
   "metadata": {},
   "source": [
    "1. apple\n",
    "    1. is red"
   ]
  },
  {
   "cell_type": "markdown",
   "id": "5abbed82",
   "metadata": {},
   "source": [
    "1. apple\n",
    "1. red"
   ]
  },
  {
   "cell_type": "markdown",
   "id": "1187e494",
   "metadata": {},
   "source": [
    "1. apple\n",
    "    1. red"
   ]
  },
  {
   "cell_type": "markdown",
   "id": "e369381b",
   "metadata": {},
   "source": [
    "1. apple"
   ]
  },
  {
   "cell_type": "markdown",
   "id": "2ae9024c",
   "metadata": {},
   "source": [
    "1. apple\n",
    "- red"
   ]
  },
  {
   "cell_type": "markdown",
   "id": "9c9c23da",
   "metadata": {},
   "source": [
    "1. apple\n",
    "    - red"
   ]
  },
  {
   "cell_type": "markdown",
   "id": "e6f1c476",
   "metadata": {},
   "source": [
    "$\\sqrt{b^2-4ac}$"
   ]
  },
  {
   "cell_type": "markdown",
   "id": "7d49fe79",
   "metadata": {},
   "source": [
    "$$ x= \\dfrac{-b\\pm\\sqrt{b^2-4ac}}{2a}\n"
   ]
  },
  {
   "cell_type": "markdown",
   "id": "f20d4c71",
   "metadata": {},
   "source": [
    "$$\n",
    "x = \\dfrac{-b \\pm \\sqrt{b^2-4ac}}{2a}\n",
    "$$"
   ]
  },
  {
   "cell_type": "markdown",
   "id": "cb0e6d60",
   "metadata": {},
   "source": [
    "$$\\sqrt{b^2-4ac}$$"
   ]
  },
  {
   "cell_type": "markdown",
   "id": "d6f1bba7",
   "metadata": {},
   "source": [
    "**Quadratic Equations**"
   ]
  },
  {
   "cell_type": "markdown",
   "id": "1ac73247",
   "metadata": {},
   "source": [
    "![](https://upload.wikimedia.org/wikipedia/commons/thumb/f/f8/Polynomialdeg2.svg/450px-Polynomialdeg2.svg.png)"
   ]
  },
  {
   "cell_type": "markdown",
   "id": "a924fc11",
   "metadata": {},
   "source": [
    "*Image from the [Wikipedia page on Quadratic equations](https://en.wikipedia.org/wiki/Quadratic_equation)*"
   ]
  },
  {
   "cell_type": "markdown",
   "id": "2d1da51e",
   "metadata": {},
   "source": [
    "**Introduction**"
   ]
  },
  {
   "cell_type": "markdown",
   "id": "99cb0d77",
   "metadata": {},
   "source": [
    "The general form of a quadratic equation is:"
   ]
  },
  {
   "cell_type": "markdown",
   "id": "88b72ffb",
   "metadata": {},
   "source": [
    "$$ ax^2 + bx + c = 0 $$"
   ]
  },
  {
   "cell_type": "markdown",
   "id": "a5193ddb",
   "metadata": {},
   "source": [
    "**Solutions** Provided $a \\ne 0$, we can use an elementary algebraic method called [completing the square](https://en.wikipedia.org/wiki/Completing_the_square) to show that a quadratic equation has the following solution:"
   ]
  },
  {
   "cell_type": "markdown",
   "id": "50790615",
   "metadata": {},
   "source": [
    "$$\n",
    "x = \\dfrac{-b \\pm \\sqrt{b^2-4ac}}{2a}\n",
    "$$"
   ]
  },
  {
   "cell_type": "markdown",
   "id": "73edfc1a",
   "metadata": {},
   "source": [
    "**Discriminant**"
   ]
  },
  {
   "cell_type": "markdown",
   "id": "028ddca0",
   "metadata": {},
   "source": [
    "The quantity $\\Delta = b^2 - 4ac = 0$ is called the **discriminant** of the equation and decides the nature of its solutions. The table below shows the various possibilities."
   ]
  },
  {
   "cell_type": "markdown",
   "id": "49196136",
   "metadata": {},
   "source": [
    "|  **Discriminant**  |  **Roots**  |\n",
    "| :--: | :--: |\n",
    "|  $$\\Delta = b^2 - 4ac = 0$$  |  A single solution of $-b/(2a)$  |\n",
    "|  $\\Delta = b^2 - 4ac \\gt 0$  |  Two distinct solutions  |\n",
    "|  $\\Delta = b^2 - 4ac \\lt 0$  |  No real solutions; both are complex.  |"
   ]
  },
  {
   "cell_type": "markdown",
   "id": "e75551bd",
   "metadata": {},
   "source": [
    "Exercise 2"
   ]
  },
  {
   "cell_type": "markdown",
   "id": "f91a4753",
   "metadata": {},
   "source": [
    "1. it is where software packages are found\n",
    "2. commits\n",
    "3. an update to the file\n",
    "4. send the update to the file to the github server\n",
    "5. Github contains all the updates to the information in our files while Github Desktop allows us to push updates to our files into the sever\n",
    "6. git fetch - send an updated file from github to the computer"
   ]
  },
  {
   "cell_type": "code",
   "execution_count": null,
   "id": "51c78055",
   "metadata": {},
   "outputs": [],
   "source": []
  }
 ],
 "metadata": {
  "kernelspec": {
   "display_name": "Python 3 (ipykernel)",
   "language": "python",
   "name": "python3"
  },
  "language_info": {
   "codemirror_mode": {
    "name": "ipython",
    "version": 3
   },
   "file_extension": ".py",
   "mimetype": "text/x-python",
   "name": "python",
   "nbconvert_exporter": "python",
   "pygments_lexer": "ipython3",
   "version": "3.10.8"
  }
 },
 "nbformat": 4,
 "nbformat_minor": 5
}
